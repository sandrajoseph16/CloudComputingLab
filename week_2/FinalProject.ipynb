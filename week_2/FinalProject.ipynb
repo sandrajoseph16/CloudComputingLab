{
 "cells": [
  {
   "cell_type": "markdown",
   "id": "b6aabba7",
   "metadata": {},
   "source": [
    "# Customer Analysis Project"
   ]
  },
  {
   "cell_type": "markdown",
   "id": "64c5a56e",
   "metadata": {},
   "source": [
    "## User permissions"
   ]
  },
  {
   "cell_type": "code",
   "execution_count": null,
   "id": "9af82aa2",
   "metadata": {},
   "outputs": [],
   "source": [
    "ls -l"
   ]
  },
  {
   "cell_type": "code",
   "execution_count": null,
   "id": "01fbe714",
   "metadata": {},
   "outputs": [],
   "source": [
    "import pandas as pd\n",
    "import numpy as np\n",
    "import seaborn as sns\n",
    "%pylab inline\n",
    "\n",
    "import sklearn as sk\n",
    "import sklearn.tree as tree\n",
    "from IPython.display import Image  \n",
    "import pydotplus"
   ]
  },
  {
   "cell_type": "code",
   "execution_count": null,
   "id": "3c2bd65d",
   "metadata": {},
   "outputs": [],
   "source": [
    "#print all the outputs in a cell\n",
    "from IPython.core.interactiveshell import InteractiveShell\n",
    "InteractiveShell.ast_node_interactivity = \"all\"\n",
    "#display all the columns\n",
    "pd.options.display.max_columns = None"
   ]
  },
  {
   "cell_type": "markdown",
   "id": "6d4cc856",
   "metadata": {},
   "source": [
    "## Data Preprocessing"
   ]
  },
  {
   "cell_type": "code",
   "execution_count": null,
   "id": "9ceb7885",
   "metadata": {},
   "outputs": [],
   "source": [
    "df  = pd.read_csv('marketing_campaign.csv', sep='\\t')"
   ]
  },
  {
   "cell_type": "markdown",
   "id": "6d14cd6f",
   "metadata": {},
   "source": [
    "## Data Analyzation"
   ]
  },
  {
   "cell_type": "markdown",
   "id": "74f93002",
   "metadata": {},
   "source": [
    "Analyze dataset to see what needs to be dropped, binarized, and what columns have null values"
   ]
  },
  {
   "cell_type": "code",
   "execution_count": null,
   "id": "fbca9b81",
   "metadata": {
    "scrolled": false
   },
   "outputs": [],
   "source": [
    "df.head()"
   ]
  },
  {
   "cell_type": "code",
   "execution_count": null,
   "id": "d864cee5",
   "metadata": {
    "scrolled": true
   },
   "outputs": [],
   "source": [
    "len(df)"
   ]
  },
  {
   "cell_type": "code",
   "execution_count": null,
   "id": "e4e3f0ca",
   "metadata": {},
   "outputs": [],
   "source": [
    "df.info()"
   ]
  },
  {
   "cell_type": "code",
   "execution_count": null,
   "id": "6be4b7ff",
   "metadata": {
    "scrolled": true
   },
   "outputs": [],
   "source": [
    "df.isna().sum()"
   ]
  },
  {
   "cell_type": "code",
   "execution_count": null,
   "id": "9d368226",
   "metadata": {},
   "outputs": [],
   "source": [
    "for c in df.columns:\n",
    "    print(c + ' ' + str(df[c].nunique()) )"
   ]
  },
  {
   "cell_type": "code",
   "execution_count": null,
   "id": "eb6498ef",
   "metadata": {},
   "outputs": [],
   "source": [
    "#make a copy to clean up the data in the way we want while also keeping the original data set\n",
    "df2 = df.copy()"
   ]
  },
  {
   "cell_type": "markdown",
   "id": "9887760e",
   "metadata": {},
   "source": [
    "### Data Cleaning"
   ]
  },
  {
   "cell_type": "code",
   "execution_count": null,
   "id": "06335434",
   "metadata": {},
   "outputs": [],
   "source": [
    "#drop the income rows that are null, as there are only 24, which represents 1% of the data\n",
    "df2.dropna(how = 'any', subset =['Income'], inplace = True)"
   ]
  },
  {
   "cell_type": "code",
   "execution_count": null,
   "id": "676ace46",
   "metadata": {},
   "outputs": [],
   "source": [
    "#drop attributes that do not provide value to the analysis\n",
    "df2.drop(['ID','Dt_Customer','Z_CostContact','Z_Revenue','Complain'], axis=1,  inplace = True)"
   ]
  },
  {
   "cell_type": "code",
   "execution_count": null,
   "id": "4fb22805",
   "metadata": {},
   "outputs": [],
   "source": [
    "df2.columns"
   ]
  },
  {
   "cell_type": "code",
   "execution_count": null,
   "id": "beeb7b14",
   "metadata": {},
   "outputs": [],
   "source": [
    "df2.groupby('Marital_Status')['Marital_Status'].size()"
   ]
  },
  {
   "cell_type": "code",
   "execution_count": null,
   "id": "a5077f88",
   "metadata": {},
   "outputs": [],
   "source": [
    "#Yolo, Absurd, and Alone are a small section of  the marital status column.\n",
    "#replace those values to Single. All categories signify Single\n",
    "df2.Marital_Status.replace(['YOLO','Absurd','Alone'], value = 'Single', inplace = True)"
   ]
  },
  {
   "cell_type": "code",
   "execution_count": null,
   "id": "f2f53d38",
   "metadata": {},
   "outputs": [],
   "source": [
    "df2.Marital_Status.unique()"
   ]
  },
  {
   "cell_type": "code",
   "execution_count": null,
   "id": "b95ef10d",
   "metadata": {},
   "outputs": [],
   "source": [
    "#2n Cycle is another name for master's, so replace 2n cycle with master\n",
    "df2.Education.replace(to_replace ='2n Cycle', value = 'Master', inplace = True)"
   ]
  },
  {
   "cell_type": "code",
   "execution_count": null,
   "id": "174b7cf6",
   "metadata": {
    "scrolled": true
   },
   "outputs": [],
   "source": [
    "df2.Education.unique()"
   ]
  },
  {
   "cell_type": "code",
   "execution_count": null,
   "id": "a97aac47",
   "metadata": {},
   "outputs": [],
   "source": [
    "#make the categorial data into numerical data\n",
    "df2 = pd.get_dummies(df2,columns=['Marital_Status','Education'])"
   ]
  },
  {
   "cell_type": "code",
   "execution_count": null,
   "id": "5224c4eb",
   "metadata": {
    "scrolled": false
   },
   "outputs": [],
   "source": [
    "df2.head()"
   ]
  },
  {
   "cell_type": "markdown",
   "id": "69901751",
   "metadata": {},
   "source": [
    "Add columns that we will use in our findings and reorder the columns based off what we thinks makes sense. Use different ways to add the new columns and redorder the columns, depending on whihc way is the easiest to do"
   ]
  },
  {
   "cell_type": "code",
   "execution_count": null,
   "id": "5c39c93a",
   "metadata": {},
   "outputs": [],
   "source": [
    "df2['TotalChildren'] = (df2.Kidhome + df2.Teenhome)"
   ]
  },
  {
   "cell_type": "code",
   "execution_count": null,
   "id": "3e2e5811",
   "metadata": {},
   "outputs": [],
   "source": [
    "df2['TotalCmpAccpt'] = (df2.AcceptedCmp3+df2.AcceptedCmp4+df2.AcceptedCmp5+df2.AcceptedCmp1+\\\n",
    "                        df2.AcceptedCmp2+df2.Response)"
   ]
  },
  {
   "cell_type": "code",
   "execution_count": null,
   "id": "bfeff29c",
   "metadata": {},
   "outputs": [],
   "source": [
    "#rename the attributes so they are more coordinated, shorter, and readable\n",
    "df2.columns =['BirthYear',\n",
    "            'Income',\n",
    "            'Kids',\n",
    "            'Teens',\n",
    "            'Recency',\n",
    "            'Wine',\n",
    "            'Fruits',\n",
    "            'Meat',\n",
    "            'Fish',\n",
    "            'Sweets',\n",
    "            'Gold',\n",
    "            'DealPurchases',\n",
    "            'WebPurchases',\n",
    "            'CatalogPurchases',\n",
    "            'StorePurchases',\n",
    "            'MonthWebVisits',\n",
    "            'Campaign3',\n",
    "            'Campaign4',\n",
    "            'Campaign5',\n",
    "            'Campaign1',\n",
    "            'Campaign2',\n",
    "            'Campaign6', \n",
    "            'Divorced',\n",
    "            'Married',\n",
    "            'Single',\n",
    "            'Together',\n",
    "            'Widow', \n",
    "            'Basic', \n",
    "            'Graduation', \n",
    "            'Master\\'s', \n",
    "            'Phd',\n",
    "            'TotalChildren',\n",
    "            'TotalCmpAccpt'] "
   ]
  },
  {
   "cell_type": "code",
   "execution_count": null,
   "id": "b00e8780",
   "metadata": {},
   "outputs": [],
   "source": [
    "list_col = df2.columns.tolist()"
   ]
  },
  {
   "cell_type": "code",
   "execution_count": null,
   "id": "6111df50",
   "metadata": {
    "scrolled": true
   },
   "outputs": [],
   "source": [
    "list_col"
   ]
  },
  {
   "cell_type": "code",
   "execution_count": null,
   "id": "2c03f5cf",
   "metadata": {},
   "outputs": [],
   "source": [
    "#sort the campaigns so it is easier to read\n",
    "list_col[list_col.index('Campaign3'):list_col.index('Campaign6')]\\\n",
    "                = sorted(list_col[list_col.index('Campaign3'):list_col.index('Campaign6')])"
   ]
  },
  {
   "cell_type": "code",
   "execution_count": null,
   "id": "95459748",
   "metadata": {},
   "outputs": [],
   "source": [
    "#order the added columns\n",
    "list_col.insert(4, list_col.pop(-2))\n",
    "list_col.insert(df2.columns.get_loc('Campaign6')+2, list_col.pop(-1))"
   ]
  },
  {
   "cell_type": "code",
   "execution_count": null,
   "id": "d78cf5b6",
   "metadata": {},
   "outputs": [],
   "source": [
    "#assign the renamed and redorded columns to the clean dataframe\n",
    "df2 = df2.reindex(columns= list_col)"
   ]
  },
  {
   "cell_type": "code",
   "execution_count": null,
   "id": "e6d51809",
   "metadata": {
    "scrolled": true
   },
   "outputs": [],
   "source": [
    "df2.head()"
   ]
  },
  {
   "cell_type": "markdown",
   "id": "10f1b3dc",
   "metadata": {},
   "source": [
    "## Data set description\n",
    "\n",
    "After cleaning, we have a DataFrame df2, which reports the enrolled customers of a certain company (one customer per row ). The columns are:\n",
    "\n",
    "* **BirthYear**: Customer's year of birth\n",
    "* **Income**: Customer's annual household income\n",
    "* **Kids**: Number of kids in each customer's household\n",
    "* **Teens**: Number of teens in each customer's household\n",
    "* **TotalChildren**: Number of kids and teens in each customer's household\n",
    "* **Recency**: Number of days since customer's last purchase\n",
    "* **Wine, Fruits, Meat, Fish, Sweets, and Gold** : The amount the customer spent on each product in the last 2 years\n",
    "* **DealPurchases**: The number of purchases customer made with a discount\n",
    "* **WebPurchases**: The number of purchases customer made through the company's website\n",
    "* **CatalogPurchases**: The number of purchases customer made using a catalog\n",
    "* **StorePurchases**: The number of purchases customer made in the store\n",
    "* **MonthWebVisits**: The number of times a customer visited the company's website in the last month\n",
    "* **Campaign 1-6**: Binary attibute that indicates whether the customer accepted the offer in each campaign\n",
    "* **TotalCmpAccpt**: The maximum number of accepted campaigns per customer\n",
    "* **Divorced, Married, Single, Together, Widow**: Binary attibute that indicates the customer's marital status\n",
    "* **Basic, Graduation, Master's, Phd**: Binary attibute that indicates the customer's highest education level "
   ]
  },
  {
   "cell_type": "markdown",
   "id": "3536a076",
   "metadata": {},
   "source": [
    "# Interesting Finding 1:  Sweets and Children Correlation"
   ]
  },
  {
   "cell_type": "markdown",
   "id": "28ddf3d1",
   "metadata": {},
   "source": [
    "### Is there a correlation between children and the amount of purchases of certain products?"
   ]
  },
  {
   "cell_type": "code",
   "execution_count": null,
   "id": "ab0196b3",
   "metadata": {},
   "outputs": [],
   "source": [
    "corr = df2.corr()"
   ]
  },
  {
   "cell_type": "code",
   "execution_count": null,
   "id": "678a319e",
   "metadata": {
    "scrolled": false
   },
   "outputs": [],
   "source": [
    "corr.loc['TotalChildren'].nsmallest()"
   ]
  },
  {
   "cell_type": "markdown",
   "id": "4a02aba8",
   "metadata": {},
   "source": [
    "#### What is the count of customers with total number of children?"
   ]
  },
  {
   "cell_type": "code",
   "execution_count": null,
   "id": "30a40bd1",
   "metadata": {},
   "outputs": [],
   "source": [
    "df2.groupby('TotalChildren')['TotalChildren'].size()"
   ]
  },
  {
   "cell_type": "code",
   "execution_count": null,
   "id": "e05a079c",
   "metadata": {
    "scrolled": true
   },
   "outputs": [],
   "source": [
    "#percent of customers that have at least one child\n",
    "(df2.TotalChildren !=0).sum()/len(df2)"
   ]
  },
  {
   "cell_type": "markdown",
   "id": "f0f10ee4",
   "metadata": {},
   "source": [
    "## Summary of Finding:\n",
    "Customers who have more children tend to buy less sweet products. "
   ]
  },
  {
   "cell_type": "markdown",
   "id": "707ef72a",
   "metadata": {},
   "source": [
    "## Graph below shows a decrease in sweets purchases as children number go up"
   ]
  },
  {
   "cell_type": "code",
   "execution_count": null,
   "id": "a1c8a221",
   "metadata": {
    "scrolled": false
   },
   "outputs": [],
   "source": [
    "sns.catplot(x = 'TotalChildren',y='Sweets',kind ='bar',data=df2, aspect = 2)"
   ]
  },
  {
   "cell_type": "markdown",
   "id": "04cf09ce",
   "metadata": {},
   "source": [
    "## Managerial Decision\n",
    "71.44% of customers have at least one child. \n",
    "To encourage these customers to buy more of sweets products, a discount on sweets can be given to these customers. \n",
    "At the same time, offering more child-oriented sweets may also increase the sale of sweets to this demographic.\n"
   ]
  },
  {
   "cell_type": "markdown",
   "id": "c4a680b0",
   "metadata": {},
   "source": [
    "# Interesting Finding 2 : Monthly Web Visits, Web Store Purchases, and Income Relation"
   ]
  },
  {
   "cell_type": "markdown",
   "id": "cdfaadd9",
   "metadata": {},
   "source": [
    "### Lets Identify customers through Clustering"
   ]
  },
  {
   "cell_type": "code",
   "execution_count": null,
   "id": "e1852cb6",
   "metadata": {},
   "outputs": [],
   "source": [
    "from sklearn.cluster import KMeans\n",
    "clu = KMeans(n_clusters=2,random_state=0)\n",
    "#after running the cross validation code, KMeans = 2 had one of the highest siloutte scores\n",
    "#this showed the most interesting cluster"
   ]
  },
  {
   "cell_type": "markdown",
   "id": "2650ecf0",
   "metadata": {},
   "source": [
    "#### Using KMeans "
   ]
  },
  {
   "cell_type": "code",
   "execution_count": null,
   "id": "aff49539",
   "metadata": {},
   "outputs": [],
   "source": [
    "#through discovery of these columns of being highly correlated, we removed them for clustering\n",
    "df_clust = df2.drop(columns =['Kids', 'Teens', 'Wine', 'Fruits', 'Meat', 'Fish', 'Sweets',\\\n",
    "                         'Gold','DealPurchases','CatalogPurchases', 'StorePurchases',\\\n",
    "                         'Campaign1', 'Campaign2', 'Campaign3','Campaign4', 'Campaign5','Campaign6'], axis =1)"
   ]
  },
  {
   "cell_type": "code",
   "execution_count": null,
   "id": "a141059e",
   "metadata": {
    "scrolled": true
   },
   "outputs": [],
   "source": [
    "clu.fit(df_clust)\n",
    "df_clust['Clustered'] = clu.labels_"
   ]
  },
  {
   "cell_type": "code",
   "execution_count": null,
   "id": "cc502a4f",
   "metadata": {
    "scrolled": false
   },
   "outputs": [],
   "source": [
    "df_clust.groupby('Clustered').mean()"
   ]
  },
  {
   "cell_type": "code",
   "execution_count": null,
   "id": "11c68d2a",
   "metadata": {
    "scrolled": true
   },
   "outputs": [],
   "source": [
    "df_clust.groupby('Clustered')[['Income','WebPurchases','MonthWebVisits']].mean()"
   ]
  },
  {
   "cell_type": "markdown",
   "id": "c8bafb07",
   "metadata": {},
   "source": [
    "## Summary of Finding:\n",
    "\n",
    "Lower income customers visit the web more every month, while customers with a higher income make more online purchases."
   ]
  },
  {
   "cell_type": "code",
   "execution_count": null,
   "id": "b955a80b",
   "metadata": {},
   "outputs": [],
   "source": [
    "#bin values chosen based on clusters, discovery showed interesting results\n",
    "df_clust['binned_income'] = pd.cut(df_clust.Income,bins=[0,34000,71000,df_clust.Income.max()])"
   ]
  },
  {
   "cell_type": "code",
   "execution_count": null,
   "id": "1f777433",
   "metadata": {},
   "outputs": [],
   "source": [
    "df_clust.groupby('binned_income')[['WebPurchases','MonthWebVisits']].mean().plot()"
   ]
  },
  {
   "cell_type": "code",
   "execution_count": null,
   "id": "30fbac2b",
   "metadata": {},
   "outputs": [],
   "source": [
    "df_clust.pivot_table(index = 'binned_income',\\\n",
    "                     values=['WebPurchases','MonthWebVisits'])"
   ]
  },
  {
   "cell_type": "code",
   "execution_count": null,
   "id": "11c2634c",
   "metadata": {},
   "outputs": [],
   "source": [
    "df_clust.pivot_table(index = 'binned_income',\\\n",
    "                     values=['WebPurchases','MonthWebVisits']).plot()"
   ]
  },
  {
   "cell_type": "markdown",
   "id": "22562355",
   "metadata": {},
   "source": [
    "## Monthly Web Visits is more in case of lower income people showing a downward trend"
   ]
  },
  {
   "cell_type": "code",
   "execution_count": null,
   "id": "996d8071",
   "metadata": {
    "scrolled": true
   },
   "outputs": [],
   "source": [
    "sns.catplot(y='MonthWebVisits',x ='binned_income',data=df_clust,kind='bar',aspect=3)"
   ]
  },
  {
   "cell_type": "markdown",
   "id": "74bff8c8",
   "metadata": {},
   "source": [
    "## Graph below shows a gradual increase in web purchases with increasing income"
   ]
  },
  {
   "cell_type": "code",
   "execution_count": null,
   "id": "01dd90cb",
   "metadata": {
    "scrolled": false
   },
   "outputs": [],
   "source": [
    "sns.catplot(y='WebPurchases',x ='binned_income',data=df_clust,kind='bar',aspect=3)"
   ]
  },
  {
   "cell_type": "code",
   "execution_count": null,
   "id": "bb2bd5f6",
   "metadata": {},
   "outputs": [],
   "source": []
  },
  {
   "cell_type": "markdown",
   "id": "c523f7dc",
   "metadata": {},
   "source": [
    "## Managerial Decision\n",
    "In order to increase the purchase rate of lower income customers, they should be targeted with online discounts after they have visited the website 3 times in one month. "
   ]
  },
  {
   "cell_type": "markdown",
   "id": "b5facdae",
   "metadata": {},
   "source": [
    "# Interesting Finding 3 : Classify who has accepted a previous campaign"
   ]
  },
  {
   "cell_type": "markdown",
   "id": "31e92641",
   "metadata": {},
   "source": [
    "### How many customers have accepted at least one offer from a campaign?"
   ]
  },
  {
   "cell_type": "code",
   "execution_count": null,
   "id": "c26b7e33",
   "metadata": {},
   "outputs": [],
   "source": [
    "#create attribute to track who has accepted a previous campaign\n",
    "df2['AccptPrevCmp'] = (df2.TotalCmpAccpt > 0)*1.0\n",
    "#percent of customers who have accepted a previous campaign\n",
    "(df2.AccptPrevCmp.sum())/len(df2)"
   ]
  },
  {
   "cell_type": "code",
   "execution_count": null,
   "id": "41d89f28",
   "metadata": {
    "scrolled": true
   },
   "outputs": [],
   "source": [
    "#show new variable column\n",
    "df2.head()"
   ]
  },
  {
   "cell_type": "markdown",
   "id": "2af6a557",
   "metadata": {},
   "source": [
    "## Can we classify the customers who will accept at least one campaign offer?"
   ]
  },
  {
   "cell_type": "markdown",
   "id": "8e40e02f",
   "metadata": {},
   "source": [
    "### Use a decision tree to classify"
   ]
  },
  {
   "cell_type": "code",
   "execution_count": null,
   "id": "62a12b43",
   "metadata": {},
   "outputs": [],
   "source": [
    "#create X by dropping columns associated with the attribute AccptPrevCmp\n",
    "X = df2.drop(columns=['Campaign1','Campaign2','Campaign3','Campaign4',\\\n",
    "                      'Campaign5','Campaign6','AccptPrevCmp', 'TotalCmpAccpt'])\n",
    "#create the Y column we're trying to predict and explain\n",
    "Y = df2.AccptPrevCmp\n",
    "#create and fit decision tree\n",
    "dt = tree.DecisionTreeClassifier(max_depth=2) \n",
    "dt.fit(X,Y)"
   ]
  },
  {
   "cell_type": "markdown",
   "id": "ea0db0c9",
   "metadata": {},
   "source": [
    "## Summary of Finding:\n",
    "Customers who have accepted at least one campaign tend to make more than \\\\$82,250 and spend more than \\\\$666.5 in wine."
   ]
  },
  {
   "cell_type": "code",
   "execution_count": null,
   "id": "c6d25329",
   "metadata": {},
   "outputs": [],
   "source": [
    "#wine was partially binned based on the decision tree.\n",
    "#the other binned levels were based on discovery.\n",
    "df2['binned_Wine'] = pd.cut(df2.Wine,bins=[0,500,650,800,1500], include_lowest=True)\n",
    "\n",
    "# Income was binned based on the decision tree.\n",
    "df2['binned_Income'] = pd.cut(df2.Income,bins=[0,82250,666666],include_lowest=True)"
   ]
  },
  {
   "cell_type": "markdown",
   "id": "125912fb",
   "metadata": {},
   "source": [
    "## Graph shows a gradual increase in accepting previous campaigns as income and amount of wine bought increases"
   ]
  },
  {
   "cell_type": "code",
   "execution_count": null,
   "id": "63213f76",
   "metadata": {
    "scrolled": true
   },
   "outputs": [],
   "source": [
    "sns.catplot(data=df2, x='binned_Wine',y='AccptPrevCmp',hue='binned_Income',kind='point',aspect=2)"
   ]
  },
  {
   "cell_type": "code",
   "execution_count": null,
   "id": "a4431ab3",
   "metadata": {},
   "outputs": [],
   "source": [
    "df2.drop(columns=['AccptPrevCmp','binned_Wine','binned_Income'], axis =1 ,inplace = True)"
   ]
  },
  {
   "cell_type": "markdown",
   "id": "7e591e2b",
   "metadata": {},
   "source": [
    "## Managerial Decision\n",
    "In order to reduce campaign marketing costs and increase campaign participation rate, the next campaign should be targeted at those who have income over \\\\$82,250 and have purchased at least \\\\$500 in wine."
   ]
  }
 ],
 "metadata": {
  "kernelspec": {
   "display_name": "Python 3",
   "language": "python",
   "name": "python3"
  },
  "language_info": {
   "codemirror_mode": {
    "name": "ipython",
    "version": 3
   },
   "file_extension": ".py",
   "mimetype": "text/x-python",
   "name": "python",
   "nbconvert_exporter": "python",
   "pygments_lexer": "ipython3",
   "version": "3.8.8"
  }
 },
 "nbformat": 4,
 "nbformat_minor": 5
}
