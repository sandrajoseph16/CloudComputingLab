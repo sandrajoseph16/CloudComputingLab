{
 "cells": [
  {
   "cell_type": "markdown",
   "id": "b6aabba7",
   "metadata": {},
   "source": [
    "# Customer Analysis Project"
   ]
  },
  {
   "cell_type": "code",
   "execution_count": 1,
   "id": "01fbe714",
   "metadata": {},
   "outputs": [
    {
     "name": "stdout",
     "output_type": "stream",
     "text": [
      "Populating the interactive namespace from numpy and matplotlib\n"
     ]
    }
   ],
   "source": [
    "import pandas as pd\n",
    "import numpy as np\n",
    "import seaborn as sns\n",
    "%pylab inline\n",
    "\n",
    "import sklearn as sk\n",
    "import sklearn.tree as tree\n",
    "from IPython.display import Image  \n",
    "import pydotplus"
   ]
  },
  {
   "cell_type": "code",
   "execution_count": 2,
   "id": "3c2bd65d",
   "metadata": {},
   "outputs": [],
   "source": [
    "#print all the outputs in a cell\n",
    "from IPython.core.interactiveshell import InteractiveShell\n",
    "InteractiveShell.ast_node_interactivity = \"all\"\n",
    "#display all the columns\n",
    "pd.options.display.max_columns = None"
   ]
  },
  {
   "cell_type": "markdown",
   "id": "6d4cc856",
   "metadata": {},
   "source": [
    "## Data Preprocessing"
   ]
  },
  {
   "cell_type": "code",
   "execution_count": 3,
   "id": "9ceb7885",
   "metadata": {},
   "outputs": [],
   "source": [
    "df  = pd.read_csv('marketing_campaign.csv', sep='\\t')"
   ]
  },
  {
   "cell_type": "markdown",
   "id": "6d14cd6f",
   "metadata": {},
   "source": [
    "## Data Analyzation"
   ]
  },
  {
   "cell_type": "markdown",
   "id": "74f93002",
   "metadata": {},
   "source": [
    "Analyze dataset to see what needs to be dropped, binarized, and what columns have null values"
   ]
  },
  {
   "cell_type": "code",
   "execution_count": 4,
   "id": "fbca9b81",
   "metadata": {
    "scrolled": false
   },
   "outputs": [
    {
     "data": {
      "text/html": [
       "<div>\n",
       "<style scoped>\n",
       "    .dataframe tbody tr th:only-of-type {\n",
       "        vertical-align: middle;\n",
       "    }\n",
       "\n",
       "    .dataframe tbody tr th {\n",
       "        vertical-align: top;\n",
       "    }\n",
       "\n",
       "    .dataframe thead th {\n",
       "        text-align: right;\n",
       "    }\n",
       "</style>\n",
       "<table border=\"1\" class=\"dataframe\">\n",
       "  <thead>\n",
       "    <tr style=\"text-align: right;\">\n",
       "      <th></th>\n",
       "      <th>ID</th>\n",
       "      <th>Year_Birth</th>\n",
       "      <th>Education</th>\n",
       "      <th>Marital_Status</th>\n",
       "      <th>Income</th>\n",
       "      <th>Kidhome</th>\n",
       "      <th>Teenhome</th>\n",
       "      <th>Dt_Customer</th>\n",
       "      <th>Recency</th>\n",
       "      <th>MntWines</th>\n",
       "      <th>MntFruits</th>\n",
       "      <th>MntMeatProducts</th>\n",
       "      <th>MntFishProducts</th>\n",
       "      <th>MntSweetProducts</th>\n",
       "      <th>MntGoldProds</th>\n",
       "      <th>NumDealsPurchases</th>\n",
       "      <th>NumWebPurchases</th>\n",
       "      <th>NumCatalogPurchases</th>\n",
       "      <th>NumStorePurchases</th>\n",
       "      <th>NumWebVisitsMonth</th>\n",
       "      <th>AcceptedCmp3</th>\n",
       "      <th>AcceptedCmp4</th>\n",
       "      <th>AcceptedCmp5</th>\n",
       "      <th>AcceptedCmp1</th>\n",
       "      <th>AcceptedCmp2</th>\n",
       "      <th>Complain</th>\n",
       "      <th>Z_CostContact</th>\n",
       "      <th>Z_Revenue</th>\n",
       "      <th>Response</th>\n",
       "    </tr>\n",
       "  </thead>\n",
       "  <tbody>\n",
       "    <tr>\n",
       "      <th>0</th>\n",
       "      <td>5524</td>\n",
       "      <td>1957</td>\n",
       "      <td>Graduation</td>\n",
       "      <td>Single</td>\n",
       "      <td>58138.0</td>\n",
       "      <td>0</td>\n",
       "      <td>0</td>\n",
       "      <td>04-09-2012</td>\n",
       "      <td>58</td>\n",
       "      <td>635</td>\n",
       "      <td>88</td>\n",
       "      <td>546</td>\n",
       "      <td>172</td>\n",
       "      <td>88</td>\n",
       "      <td>88</td>\n",
       "      <td>3</td>\n",
       "      <td>8</td>\n",
       "      <td>10</td>\n",
       "      <td>4</td>\n",
       "      <td>7</td>\n",
       "      <td>0</td>\n",
       "      <td>0</td>\n",
       "      <td>0</td>\n",
       "      <td>0</td>\n",
       "      <td>0</td>\n",
       "      <td>0</td>\n",
       "      <td>3</td>\n",
       "      <td>11</td>\n",
       "      <td>1</td>\n",
       "    </tr>\n",
       "    <tr>\n",
       "      <th>1</th>\n",
       "      <td>2174</td>\n",
       "      <td>1954</td>\n",
       "      <td>Graduation</td>\n",
       "      <td>Single</td>\n",
       "      <td>46344.0</td>\n",
       "      <td>1</td>\n",
       "      <td>1</td>\n",
       "      <td>08-03-2014</td>\n",
       "      <td>38</td>\n",
       "      <td>11</td>\n",
       "      <td>1</td>\n",
       "      <td>6</td>\n",
       "      <td>2</td>\n",
       "      <td>1</td>\n",
       "      <td>6</td>\n",
       "      <td>2</td>\n",
       "      <td>1</td>\n",
       "      <td>1</td>\n",
       "      <td>2</td>\n",
       "      <td>5</td>\n",
       "      <td>0</td>\n",
       "      <td>0</td>\n",
       "      <td>0</td>\n",
       "      <td>0</td>\n",
       "      <td>0</td>\n",
       "      <td>0</td>\n",
       "      <td>3</td>\n",
       "      <td>11</td>\n",
       "      <td>0</td>\n",
       "    </tr>\n",
       "    <tr>\n",
       "      <th>2</th>\n",
       "      <td>4141</td>\n",
       "      <td>1965</td>\n",
       "      <td>Graduation</td>\n",
       "      <td>Together</td>\n",
       "      <td>71613.0</td>\n",
       "      <td>0</td>\n",
       "      <td>0</td>\n",
       "      <td>21-08-2013</td>\n",
       "      <td>26</td>\n",
       "      <td>426</td>\n",
       "      <td>49</td>\n",
       "      <td>127</td>\n",
       "      <td>111</td>\n",
       "      <td>21</td>\n",
       "      <td>42</td>\n",
       "      <td>1</td>\n",
       "      <td>8</td>\n",
       "      <td>2</td>\n",
       "      <td>10</td>\n",
       "      <td>4</td>\n",
       "      <td>0</td>\n",
       "      <td>0</td>\n",
       "      <td>0</td>\n",
       "      <td>0</td>\n",
       "      <td>0</td>\n",
       "      <td>0</td>\n",
       "      <td>3</td>\n",
       "      <td>11</td>\n",
       "      <td>0</td>\n",
       "    </tr>\n",
       "    <tr>\n",
       "      <th>3</th>\n",
       "      <td>6182</td>\n",
       "      <td>1984</td>\n",
       "      <td>Graduation</td>\n",
       "      <td>Together</td>\n",
       "      <td>26646.0</td>\n",
       "      <td>1</td>\n",
       "      <td>0</td>\n",
       "      <td>10-02-2014</td>\n",
       "      <td>26</td>\n",
       "      <td>11</td>\n",
       "      <td>4</td>\n",
       "      <td>20</td>\n",
       "      <td>10</td>\n",
       "      <td>3</td>\n",
       "      <td>5</td>\n",
       "      <td>2</td>\n",
       "      <td>2</td>\n",
       "      <td>0</td>\n",
       "      <td>4</td>\n",
       "      <td>6</td>\n",
       "      <td>0</td>\n",
       "      <td>0</td>\n",
       "      <td>0</td>\n",
       "      <td>0</td>\n",
       "      <td>0</td>\n",
       "      <td>0</td>\n",
       "      <td>3</td>\n",
       "      <td>11</td>\n",
       "      <td>0</td>\n",
       "    </tr>\n",
       "    <tr>\n",
       "      <th>4</th>\n",
       "      <td>5324</td>\n",
       "      <td>1981</td>\n",
       "      <td>PhD</td>\n",
       "      <td>Married</td>\n",
       "      <td>58293.0</td>\n",
       "      <td>1</td>\n",
       "      <td>0</td>\n",
       "      <td>19-01-2014</td>\n",
       "      <td>94</td>\n",
       "      <td>173</td>\n",
       "      <td>43</td>\n",
       "      <td>118</td>\n",
       "      <td>46</td>\n",
       "      <td>27</td>\n",
       "      <td>15</td>\n",
       "      <td>5</td>\n",
       "      <td>5</td>\n",
       "      <td>3</td>\n",
       "      <td>6</td>\n",
       "      <td>5</td>\n",
       "      <td>0</td>\n",
       "      <td>0</td>\n",
       "      <td>0</td>\n",
       "      <td>0</td>\n",
       "      <td>0</td>\n",
       "      <td>0</td>\n",
       "      <td>3</td>\n",
       "      <td>11</td>\n",
       "      <td>0</td>\n",
       "    </tr>\n",
       "  </tbody>\n",
       "</table>\n",
       "</div>"
      ],
      "text/plain": [
       "     ID  Year_Birth   Education Marital_Status   Income  Kidhome  Teenhome  \\\n",
       "0  5524        1957  Graduation         Single  58138.0        0         0   \n",
       "1  2174        1954  Graduation         Single  46344.0        1         1   \n",
       "2  4141        1965  Graduation       Together  71613.0        0         0   \n",
       "3  6182        1984  Graduation       Together  26646.0        1         0   \n",
       "4  5324        1981         PhD        Married  58293.0        1         0   \n",
       "\n",
       "  Dt_Customer  Recency  MntWines  MntFruits  MntMeatProducts  MntFishProducts  \\\n",
       "0  04-09-2012       58       635         88              546              172   \n",
       "1  08-03-2014       38        11          1                6                2   \n",
       "2  21-08-2013       26       426         49              127              111   \n",
       "3  10-02-2014       26        11          4               20               10   \n",
       "4  19-01-2014       94       173         43              118               46   \n",
       "\n",
       "   MntSweetProducts  MntGoldProds  NumDealsPurchases  NumWebPurchases  \\\n",
       "0                88            88                  3                8   \n",
       "1                 1             6                  2                1   \n",
       "2                21            42                  1                8   \n",
       "3                 3             5                  2                2   \n",
       "4                27            15                  5                5   \n",
       "\n",
       "   NumCatalogPurchases  NumStorePurchases  NumWebVisitsMonth  AcceptedCmp3  \\\n",
       "0                   10                  4                  7             0   \n",
       "1                    1                  2                  5             0   \n",
       "2                    2                 10                  4             0   \n",
       "3                    0                  4                  6             0   \n",
       "4                    3                  6                  5             0   \n",
       "\n",
       "   AcceptedCmp4  AcceptedCmp5  AcceptedCmp1  AcceptedCmp2  Complain  \\\n",
       "0             0             0             0             0         0   \n",
       "1             0             0             0             0         0   \n",
       "2             0             0             0             0         0   \n",
       "3             0             0             0             0         0   \n",
       "4             0             0             0             0         0   \n",
       "\n",
       "   Z_CostContact  Z_Revenue  Response  \n",
       "0              3         11         1  \n",
       "1              3         11         0  \n",
       "2              3         11         0  \n",
       "3              3         11         0  \n",
       "4              3         11         0  "
      ]
     },
     "execution_count": 4,
     "metadata": {},
     "output_type": "execute_result"
    }
   ],
   "source": [
    "df.head()"
   ]
  },
  {
   "cell_type": "code",
   "execution_count": 5,
   "id": "d864cee5",
   "metadata": {
    "scrolled": true
   },
   "outputs": [
    {
     "data": {
      "text/plain": [
       "2240"
      ]
     },
     "execution_count": 5,
     "metadata": {},
     "output_type": "execute_result"
    }
   ],
   "source": [
    "len(df)"
   ]
  },
  {
   "cell_type": "code",
   "execution_count": 6,
   "id": "e4e3f0ca",
   "metadata": {},
   "outputs": [
    {
     "name": "stdout",
     "output_type": "stream",
     "text": [
      "<class 'pandas.core.frame.DataFrame'>\n",
      "RangeIndex: 2240 entries, 0 to 2239\n",
      "Data columns (total 29 columns):\n",
      " #   Column               Non-Null Count  Dtype  \n",
      "---  ------               --------------  -----  \n",
      " 0   ID                   2240 non-null   int64  \n",
      " 1   Year_Birth           2240 non-null   int64  \n",
      " 2   Education            2240 non-null   object \n",
      " 3   Marital_Status       2240 non-null   object \n",
      " 4   Income               2216 non-null   float64\n",
      " 5   Kidhome              2240 non-null   int64  \n",
      " 6   Teenhome             2240 non-null   int64  \n",
      " 7   Dt_Customer          2240 non-null   object \n",
      " 8   Recency              2240 non-null   int64  \n",
      " 9   MntWines             2240 non-null   int64  \n",
      " 10  MntFruits            2240 non-null   int64  \n",
      " 11  MntMeatProducts      2240 non-null   int64  \n",
      " 12  MntFishProducts      2240 non-null   int64  \n",
      " 13  MntSweetProducts     2240 non-null   int64  \n",
      " 14  MntGoldProds         2240 non-null   int64  \n",
      " 15  NumDealsPurchases    2240 non-null   int64  \n",
      " 16  NumWebPurchases      2240 non-null   int64  \n",
      " 17  NumCatalogPurchases  2240 non-null   int64  \n",
      " 18  NumStorePurchases    2240 non-null   int64  \n",
      " 19  NumWebVisitsMonth    2240 non-null   int64  \n",
      " 20  AcceptedCmp3         2240 non-null   int64  \n",
      " 21  AcceptedCmp4         2240 non-null   int64  \n",
      " 22  AcceptedCmp5         2240 non-null   int64  \n",
      " 23  AcceptedCmp1         2240 non-null   int64  \n",
      " 24  AcceptedCmp2         2240 non-null   int64  \n",
      " 25  Complain             2240 non-null   int64  \n",
      " 26  Z_CostContact        2240 non-null   int64  \n",
      " 27  Z_Revenue            2240 non-null   int64  \n",
      " 28  Response             2240 non-null   int64  \n",
      "dtypes: float64(1), int64(25), object(3)\n",
      "memory usage: 507.6+ KB\n"
     ]
    }
   ],
   "source": [
    "df.info()"
   ]
  },
  {
   "cell_type": "code",
   "execution_count": 7,
   "id": "6be4b7ff",
   "metadata": {
    "scrolled": true
   },
   "outputs": [
    {
     "data": {
      "text/plain": [
       "ID                      0\n",
       "Year_Birth              0\n",
       "Education               0\n",
       "Marital_Status          0\n",
       "Income                 24\n",
       "Kidhome                 0\n",
       "Teenhome                0\n",
       "Dt_Customer             0\n",
       "Recency                 0\n",
       "MntWines                0\n",
       "MntFruits               0\n",
       "MntMeatProducts         0\n",
       "MntFishProducts         0\n",
       "MntSweetProducts        0\n",
       "MntGoldProds            0\n",
       "NumDealsPurchases       0\n",
       "NumWebPurchases         0\n",
       "NumCatalogPurchases     0\n",
       "NumStorePurchases       0\n",
       "NumWebVisitsMonth       0\n",
       "AcceptedCmp3            0\n",
       "AcceptedCmp4            0\n",
       "AcceptedCmp5            0\n",
       "AcceptedCmp1            0\n",
       "AcceptedCmp2            0\n",
       "Complain                0\n",
       "Z_CostContact           0\n",
       "Z_Revenue               0\n",
       "Response                0\n",
       "dtype: int64"
      ]
     },
     "execution_count": 7,
     "metadata": {},
     "output_type": "execute_result"
    }
   ],
   "source": [
    "df.isna().sum()"
   ]
  },
  {
   "cell_type": "code",
   "execution_count": 8,
   "id": "9d368226",
   "metadata": {},
   "outputs": [
    {
     "name": "stdout",
     "output_type": "stream",
     "text": [
      "ID 2240\n",
      "Year_Birth 59\n",
      "Education 5\n",
      "Marital_Status 8\n",
      "Income 1974\n",
      "Kidhome 3\n",
      "Teenhome 3\n",
      "Dt_Customer 663\n",
      "Recency 100\n",
      "MntWines 776\n",
      "MntFruits 158\n",
      "MntMeatProducts 558\n",
      "MntFishProducts 182\n",
      "MntSweetProducts 177\n",
      "MntGoldProds 213\n",
      "NumDealsPurchases 15\n",
      "NumWebPurchases 15\n",
      "NumCatalogPurchases 14\n",
      "NumStorePurchases 14\n",
      "NumWebVisitsMonth 16\n",
      "AcceptedCmp3 2\n",
      "AcceptedCmp4 2\n",
      "AcceptedCmp5 2\n",
      "AcceptedCmp1 2\n",
      "AcceptedCmp2 2\n",
      "Complain 2\n",
      "Z_CostContact 1\n",
      "Z_Revenue 1\n",
      "Response 2\n"
     ]
    }
   ],
   "source": [
    "for c in df.columns:\n",
    "    print(c + ' ' + str(df[c].nunique()) )"
   ]
  },
  {
   "cell_type": "code",
   "execution_count": 9,
   "id": "eb6498ef",
   "metadata": {},
   "outputs": [],
   "source": [
    "#make a copy to clean up the data in the way we want while also keeping the original data set\n",
    "df2 = df.copy()"
   ]
  },
  {
   "cell_type": "markdown",
   "id": "9887760e",
   "metadata": {},
   "source": [
    "### Data Cleaning"
   ]
  },
  {
   "cell_type": "code",
   "execution_count": 10,
   "id": "06335434",
   "metadata": {},
   "outputs": [],
   "source": [
    "#drop the income rows that are null, as there are only 24, which represents 1% of the data\n",
    "df2.dropna(how = 'any', subset =['Income'], inplace = True)"
   ]
  },
  {
   "cell_type": "code",
   "execution_count": 11,
   "id": "676ace46",
   "metadata": {},
   "outputs": [],
   "source": [
    "#drop attributes that do not provide value to the analysis\n",
    "df2.drop(['ID','Dt_Customer','Z_CostContact','Z_Revenue','Complain'], axis=1,  inplace = True)"
   ]
  },
  {
   "cell_type": "code",
   "execution_count": 12,
   "id": "4fb22805",
   "metadata": {},
   "outputs": [
    {
     "data": {
      "text/plain": [
       "Index(['Year_Birth', 'Education', 'Marital_Status', 'Income', 'Kidhome',\n",
       "       'Teenhome', 'Recency', 'MntWines', 'MntFruits', 'MntMeatProducts',\n",
       "       'MntFishProducts', 'MntSweetProducts', 'MntGoldProds',\n",
       "       'NumDealsPurchases', 'NumWebPurchases', 'NumCatalogPurchases',\n",
       "       'NumStorePurchases', 'NumWebVisitsMonth', 'AcceptedCmp3',\n",
       "       'AcceptedCmp4', 'AcceptedCmp5', 'AcceptedCmp1', 'AcceptedCmp2',\n",
       "       'Response'],\n",
       "      dtype='object')"
      ]
     },
     "execution_count": 12,
     "metadata": {},
     "output_type": "execute_result"
    }
   ],
   "source": [
    "df2.columns"
   ]
  },
  {
   "cell_type": "code",
   "execution_count": 13,
   "id": "beeb7b14",
   "metadata": {},
   "outputs": [
    {
     "data": {
      "text/plain": [
       "Marital_Status\n",
       "Absurd        2\n",
       "Alone         3\n",
       "Divorced    232\n",
       "Married     857\n",
       "Single      471\n",
       "Together    573\n",
       "Widow        76\n",
       "YOLO          2\n",
       "Name: Marital_Status, dtype: int64"
      ]
     },
     "execution_count": 13,
     "metadata": {},
     "output_type": "execute_result"
    }
   ],
   "source": [
    "df2.groupby('Marital_Status')['Marital_Status'].size()"
   ]
  },
  {
   "cell_type": "code",
   "execution_count": 14,
   "id": "a5077f88",
   "metadata": {},
   "outputs": [],
   "source": [
    "#Yolo, Absurd, and Alone are a small section of  the marital status column.\n",
    "#replace those values to Single. All categories signify Single\n",
    "df2.Marital_Status.replace(['YOLO','Absurd','Alone'], value = 'Single', inplace = True)"
   ]
  },
  {
   "cell_type": "code",
   "execution_count": 15,
   "id": "f2f53d38",
   "metadata": {},
   "outputs": [
    {
     "data": {
      "text/plain": [
       "array(['Single', 'Together', 'Married', 'Divorced', 'Widow'], dtype=object)"
      ]
     },
     "execution_count": 15,
     "metadata": {},
     "output_type": "execute_result"
    }
   ],
   "source": [
    "df2.Marital_Status.unique()"
   ]
  },
  {
   "cell_type": "code",
   "execution_count": 16,
   "id": "b95ef10d",
   "metadata": {},
   "outputs": [],
   "source": [
    "#2n Cycle is another name for master's, so replace 2n cycle with master\n",
    "df2.Education.replace(to_replace ='2n Cycle', value = 'Master', inplace = True)"
   ]
  },
  {
   "cell_type": "code",
   "execution_count": 17,
   "id": "174b7cf6",
   "metadata": {
    "scrolled": true
   },
   "outputs": [
    {
     "data": {
      "text/plain": [
       "array(['Graduation', 'PhD', 'Master', 'Basic'], dtype=object)"
      ]
     },
     "execution_count": 17,
     "metadata": {},
     "output_type": "execute_result"
    }
   ],
   "source": [
    "df2.Education.unique()"
   ]
  },
  {
   "cell_type": "code",
   "execution_count": 18,
   "id": "a97aac47",
   "metadata": {},
   "outputs": [],
   "source": [
    "#make the categorial data into numerical data\n",
    "df2 = pd.get_dummies(df2,columns=['Marital_Status','Education'])"
   ]
  },
  {
   "cell_type": "code",
   "execution_count": 19,
   "id": "5224c4eb",
   "metadata": {
    "scrolled": false
   },
   "outputs": [
    {
     "data": {
      "text/html": [
       "<div>\n",
       "<style scoped>\n",
       "    .dataframe tbody tr th:only-of-type {\n",
       "        vertical-align: middle;\n",
       "    }\n",
       "\n",
       "    .dataframe tbody tr th {\n",
       "        vertical-align: top;\n",
       "    }\n",
       "\n",
       "    .dataframe thead th {\n",
       "        text-align: right;\n",
       "    }\n",
       "</style>\n",
       "<table border=\"1\" class=\"dataframe\">\n",
       "  <thead>\n",
       "    <tr style=\"text-align: right;\">\n",
       "      <th></th>\n",
       "      <th>Year_Birth</th>\n",
       "      <th>Income</th>\n",
       "      <th>Kidhome</th>\n",
       "      <th>Teenhome</th>\n",
       "      <th>Recency</th>\n",
       "      <th>MntWines</th>\n",
       "      <th>MntFruits</th>\n",
       "      <th>MntMeatProducts</th>\n",
       "      <th>MntFishProducts</th>\n",
       "      <th>MntSweetProducts</th>\n",
       "      <th>MntGoldProds</th>\n",
       "      <th>NumDealsPurchases</th>\n",
       "      <th>NumWebPurchases</th>\n",
       "      <th>NumCatalogPurchases</th>\n",
       "      <th>NumStorePurchases</th>\n",
       "      <th>NumWebVisitsMonth</th>\n",
       "      <th>AcceptedCmp3</th>\n",
       "      <th>AcceptedCmp4</th>\n",
       "      <th>AcceptedCmp5</th>\n",
       "      <th>AcceptedCmp1</th>\n",
       "      <th>AcceptedCmp2</th>\n",
       "      <th>Response</th>\n",
       "      <th>Marital_Status_Divorced</th>\n",
       "      <th>Marital_Status_Married</th>\n",
       "      <th>Marital_Status_Single</th>\n",
       "      <th>Marital_Status_Together</th>\n",
       "      <th>Marital_Status_Widow</th>\n",
       "      <th>Education_Basic</th>\n",
       "      <th>Education_Graduation</th>\n",
       "      <th>Education_Master</th>\n",
       "      <th>Education_PhD</th>\n",
       "    </tr>\n",
       "  </thead>\n",
       "  <tbody>\n",
       "    <tr>\n",
       "      <th>0</th>\n",
       "      <td>1957</td>\n",
       "      <td>58138.0</td>\n",
       "      <td>0</td>\n",
       "      <td>0</td>\n",
       "      <td>58</td>\n",
       "      <td>635</td>\n",
       "      <td>88</td>\n",
       "      <td>546</td>\n",
       "      <td>172</td>\n",
       "      <td>88</td>\n",
       "      <td>88</td>\n",
       "      <td>3</td>\n",
       "      <td>8</td>\n",
       "      <td>10</td>\n",
       "      <td>4</td>\n",
       "      <td>7</td>\n",
       "      <td>0</td>\n",
       "      <td>0</td>\n",
       "      <td>0</td>\n",
       "      <td>0</td>\n",
       "      <td>0</td>\n",
       "      <td>1</td>\n",
       "      <td>0</td>\n",
       "      <td>0</td>\n",
       "      <td>1</td>\n",
       "      <td>0</td>\n",
       "      <td>0</td>\n",
       "      <td>0</td>\n",
       "      <td>1</td>\n",
       "      <td>0</td>\n",
       "      <td>0</td>\n",
       "    </tr>\n",
       "    <tr>\n",
       "      <th>1</th>\n",
       "      <td>1954</td>\n",
       "      <td>46344.0</td>\n",
       "      <td>1</td>\n",
       "      <td>1</td>\n",
       "      <td>38</td>\n",
       "      <td>11</td>\n",
       "      <td>1</td>\n",
       "      <td>6</td>\n",
       "      <td>2</td>\n",
       "      <td>1</td>\n",
       "      <td>6</td>\n",
       "      <td>2</td>\n",
       "      <td>1</td>\n",
       "      <td>1</td>\n",
       "      <td>2</td>\n",
       "      <td>5</td>\n",
       "      <td>0</td>\n",
       "      <td>0</td>\n",
       "      <td>0</td>\n",
       "      <td>0</td>\n",
       "      <td>0</td>\n",
       "      <td>0</td>\n",
       "      <td>0</td>\n",
       "      <td>0</td>\n",
       "      <td>1</td>\n",
       "      <td>0</td>\n",
       "      <td>0</td>\n",
       "      <td>0</td>\n",
       "      <td>1</td>\n",
       "      <td>0</td>\n",
       "      <td>0</td>\n",
       "    </tr>\n",
       "    <tr>\n",
       "      <th>2</th>\n",
       "      <td>1965</td>\n",
       "      <td>71613.0</td>\n",
       "      <td>0</td>\n",
       "      <td>0</td>\n",
       "      <td>26</td>\n",
       "      <td>426</td>\n",
       "      <td>49</td>\n",
       "      <td>127</td>\n",
       "      <td>111</td>\n",
       "      <td>21</td>\n",
       "      <td>42</td>\n",
       "      <td>1</td>\n",
       "      <td>8</td>\n",
       "      <td>2</td>\n",
       "      <td>10</td>\n",
       "      <td>4</td>\n",
       "      <td>0</td>\n",
       "      <td>0</td>\n",
       "      <td>0</td>\n",
       "      <td>0</td>\n",
       "      <td>0</td>\n",
       "      <td>0</td>\n",
       "      <td>0</td>\n",
       "      <td>0</td>\n",
       "      <td>0</td>\n",
       "      <td>1</td>\n",
       "      <td>0</td>\n",
       "      <td>0</td>\n",
       "      <td>1</td>\n",
       "      <td>0</td>\n",
       "      <td>0</td>\n",
       "    </tr>\n",
       "    <tr>\n",
       "      <th>3</th>\n",
       "      <td>1984</td>\n",
       "      <td>26646.0</td>\n",
       "      <td>1</td>\n",
       "      <td>0</td>\n",
       "      <td>26</td>\n",
       "      <td>11</td>\n",
       "      <td>4</td>\n",
       "      <td>20</td>\n",
       "      <td>10</td>\n",
       "      <td>3</td>\n",
       "      <td>5</td>\n",
       "      <td>2</td>\n",
       "      <td>2</td>\n",
       "      <td>0</td>\n",
       "      <td>4</td>\n",
       "      <td>6</td>\n",
       "      <td>0</td>\n",
       "      <td>0</td>\n",
       "      <td>0</td>\n",
       "      <td>0</td>\n",
       "      <td>0</td>\n",
       "      <td>0</td>\n",
       "      <td>0</td>\n",
       "      <td>0</td>\n",
       "      <td>0</td>\n",
       "      <td>1</td>\n",
       "      <td>0</td>\n",
       "      <td>0</td>\n",
       "      <td>1</td>\n",
       "      <td>0</td>\n",
       "      <td>0</td>\n",
       "    </tr>\n",
       "    <tr>\n",
       "      <th>4</th>\n",
       "      <td>1981</td>\n",
       "      <td>58293.0</td>\n",
       "      <td>1</td>\n",
       "      <td>0</td>\n",
       "      <td>94</td>\n",
       "      <td>173</td>\n",
       "      <td>43</td>\n",
       "      <td>118</td>\n",
       "      <td>46</td>\n",
       "      <td>27</td>\n",
       "      <td>15</td>\n",
       "      <td>5</td>\n",
       "      <td>5</td>\n",
       "      <td>3</td>\n",
       "      <td>6</td>\n",
       "      <td>5</td>\n",
       "      <td>0</td>\n",
       "      <td>0</td>\n",
       "      <td>0</td>\n",
       "      <td>0</td>\n",
       "      <td>0</td>\n",
       "      <td>0</td>\n",
       "      <td>0</td>\n",
       "      <td>1</td>\n",
       "      <td>0</td>\n",
       "      <td>0</td>\n",
       "      <td>0</td>\n",
       "      <td>0</td>\n",
       "      <td>0</td>\n",
       "      <td>0</td>\n",
       "      <td>1</td>\n",
       "    </tr>\n",
       "  </tbody>\n",
       "</table>\n",
       "</div>"
      ],
      "text/plain": [
       "   Year_Birth   Income  Kidhome  Teenhome  Recency  MntWines  MntFruits  \\\n",
       "0        1957  58138.0        0         0       58       635         88   \n",
       "1        1954  46344.0        1         1       38        11          1   \n",
       "2        1965  71613.0        0         0       26       426         49   \n",
       "3        1984  26646.0        1         0       26        11          4   \n",
       "4        1981  58293.0        1         0       94       173         43   \n",
       "\n",
       "   MntMeatProducts  MntFishProducts  MntSweetProducts  MntGoldProds  \\\n",
       "0              546              172                88            88   \n",
       "1                6                2                 1             6   \n",
       "2              127              111                21            42   \n",
       "3               20               10                 3             5   \n",
       "4              118               46                27            15   \n",
       "\n",
       "   NumDealsPurchases  NumWebPurchases  NumCatalogPurchases  NumStorePurchases  \\\n",
       "0                  3                8                   10                  4   \n",
       "1                  2                1                    1                  2   \n",
       "2                  1                8                    2                 10   \n",
       "3                  2                2                    0                  4   \n",
       "4                  5                5                    3                  6   \n",
       "\n",
       "   NumWebVisitsMonth  AcceptedCmp3  AcceptedCmp4  AcceptedCmp5  AcceptedCmp1  \\\n",
       "0                  7             0             0             0             0   \n",
       "1                  5             0             0             0             0   \n",
       "2                  4             0             0             0             0   \n",
       "3                  6             0             0             0             0   \n",
       "4                  5             0             0             0             0   \n",
       "\n",
       "   AcceptedCmp2  Response  Marital_Status_Divorced  Marital_Status_Married  \\\n",
       "0             0         1                        0                       0   \n",
       "1             0         0                        0                       0   \n",
       "2             0         0                        0                       0   \n",
       "3             0         0                        0                       0   \n",
       "4             0         0                        0                       1   \n",
       "\n",
       "   Marital_Status_Single  Marital_Status_Together  Marital_Status_Widow  \\\n",
       "0                      1                        0                     0   \n",
       "1                      1                        0                     0   \n",
       "2                      0                        1                     0   \n",
       "3                      0                        1                     0   \n",
       "4                      0                        0                     0   \n",
       "\n",
       "   Education_Basic  Education_Graduation  Education_Master  Education_PhD  \n",
       "0                0                     1                 0              0  \n",
       "1                0                     1                 0              0  \n",
       "2                0                     1                 0              0  \n",
       "3                0                     1                 0              0  \n",
       "4                0                     0                 0              1  "
      ]
     },
     "execution_count": 19,
     "metadata": {},
     "output_type": "execute_result"
    }
   ],
   "source": [
    "df2.head()"
   ]
  },
  {
   "cell_type": "markdown",
   "id": "69901751",
   "metadata": {},
   "source": [
    "Add columns that we will use in our findings and reorder the columns based off what we thinks makes sense. Use different ways to add the new columns and redorder the columns, depending on whihc way is the easiest to do"
   ]
  },
  {
   "cell_type": "code",
   "execution_count": 20,
   "id": "5c39c93a",
   "metadata": {},
   "outputs": [],
   "source": [
    "df2['TotalChildren'] = (df2.Kidhome + df2.Teenhome)"
   ]
  },
  {
   "cell_type": "code",
   "execution_count": 21,
   "id": "3e2e5811",
   "metadata": {},
   "outputs": [],
   "source": [
    "df2['TotalCmpAccpt'] = (df2.AcceptedCmp3+df2.AcceptedCmp4+df2.AcceptedCmp5+df2.AcceptedCmp1+\\\n",
    "                        df2.AcceptedCmp2+df2.Response)"
   ]
  },
  {
   "cell_type": "code",
   "execution_count": 22,
   "id": "bfeff29c",
   "metadata": {},
   "outputs": [],
   "source": [
    "#rename the attributes so they are more coordinated, shorter, and readable\n",
    "df2.columns =['BirthYear',\n",
    "            'Income',\n",
    "            'Kids',\n",
    "            'Teens',\n",
    "            'Recency',\n",
    "            'Wine',\n",
    "            'Fruits',\n",
    "            'Meat',\n",
    "            'Fish',\n",
    "            'Sweets',\n",
    "            'Gold',\n",
    "            'DealPurchases',\n",
    "            'WebPurchases',\n",
    "            'CatalogPurchases',\n",
    "            'StorePurchases',\n",
    "            'MonthWebVisits',\n",
    "            'Campaign3',\n",
    "            'Campaign4',\n",
    "            'Campaign5',\n",
    "            'Campaign1',\n",
    "            'Campaign2',\n",
    "            'Campaign6', \n",
    "            'Divorced',\n",
    "            'Married',\n",
    "            'Single',\n",
    "            'Together',\n",
    "            'Widow', \n",
    "            'Basic', \n",
    "            'Graduation', \n",
    "            'Master\\'s', \n",
    "            'Phd',\n",
    "            'TotalChildren',\n",
    "            'TotalCmpAccpt'] "
   ]
  },
  {
   "cell_type": "code",
   "execution_count": 23,
   "id": "b00e8780",
   "metadata": {},
   "outputs": [],
   "source": [
    "list_col = df2.columns.tolist()"
   ]
  },
  {
   "cell_type": "code",
   "execution_count": 24,
   "id": "6111df50",
   "metadata": {
    "scrolled": true
   },
   "outputs": [
    {
     "data": {
      "text/plain": [
       "['BirthYear',\n",
       " 'Income',\n",
       " 'Kids',\n",
       " 'Teens',\n",
       " 'Recency',\n",
       " 'Wine',\n",
       " 'Fruits',\n",
       " 'Meat',\n",
       " 'Fish',\n",
       " 'Sweets',\n",
       " 'Gold',\n",
       " 'DealPurchases',\n",
       " 'WebPurchases',\n",
       " 'CatalogPurchases',\n",
       " 'StorePurchases',\n",
       " 'MonthWebVisits',\n",
       " 'Campaign3',\n",
       " 'Campaign4',\n",
       " 'Campaign5',\n",
       " 'Campaign1',\n",
       " 'Campaign2',\n",
       " 'Campaign6',\n",
       " 'Divorced',\n",
       " 'Married',\n",
       " 'Single',\n",
       " 'Together',\n",
       " 'Widow',\n",
       " 'Basic',\n",
       " 'Graduation',\n",
       " \"Master's\",\n",
       " 'Phd',\n",
       " 'TotalChildren',\n",
       " 'TotalCmpAccpt']"
      ]
     },
     "execution_count": 24,
     "metadata": {},
     "output_type": "execute_result"
    }
   ],
   "source": [
    "list_col"
   ]
  },
  {
   "cell_type": "code",
   "execution_count": 25,
   "id": "2c03f5cf",
   "metadata": {},
   "outputs": [],
   "source": [
    "#sort the campaigns so it is easier to read\n",
    "list_col[list_col.index('Campaign3'):list_col.index('Campaign6')]\\\n",
    "                = sorted(list_col[list_col.index('Campaign3'):list_col.index('Campaign6')])"
   ]
  },
  {
   "cell_type": "code",
   "execution_count": 26,
   "id": "95459748",
   "metadata": {},
   "outputs": [],
   "source": [
    "#order the added columns\n",
    "list_col.insert(4, list_col.pop(-2))\n",
    "list_col.insert(df2.columns.get_loc('Campaign6')+2, list_col.pop(-1))"
   ]
  },
  {
   "cell_type": "code",
   "execution_count": 27,
   "id": "d78cf5b6",
   "metadata": {},
   "outputs": [],
   "source": [
    "#assign the renamed and redorded columns to the clean dataframe\n",
    "df2 = df2.reindex(columns= list_col)"
   ]
  },
  {
   "cell_type": "code",
   "execution_count": 28,
   "id": "e6d51809",
   "metadata": {
    "scrolled": true
   },
   "outputs": [
    {
     "data": {
      "text/html": [
       "<div>\n",
       "<style scoped>\n",
       "    .dataframe tbody tr th:only-of-type {\n",
       "        vertical-align: middle;\n",
       "    }\n",
       "\n",
       "    .dataframe tbody tr th {\n",
       "        vertical-align: top;\n",
       "    }\n",
       "\n",
       "    .dataframe thead th {\n",
       "        text-align: right;\n",
       "    }\n",
       "</style>\n",
       "<table border=\"1\" class=\"dataframe\">\n",
       "  <thead>\n",
       "    <tr style=\"text-align: right;\">\n",
       "      <th></th>\n",
       "      <th>BirthYear</th>\n",
       "      <th>Income</th>\n",
       "      <th>Kids</th>\n",
       "      <th>Teens</th>\n",
       "      <th>TotalChildren</th>\n",
       "      <th>Recency</th>\n",
       "      <th>Wine</th>\n",
       "      <th>Fruits</th>\n",
       "      <th>Meat</th>\n",
       "      <th>Fish</th>\n",
       "      <th>Sweets</th>\n",
       "      <th>Gold</th>\n",
       "      <th>DealPurchases</th>\n",
       "      <th>WebPurchases</th>\n",
       "      <th>CatalogPurchases</th>\n",
       "      <th>StorePurchases</th>\n",
       "      <th>MonthWebVisits</th>\n",
       "      <th>Campaign1</th>\n",
       "      <th>Campaign2</th>\n",
       "      <th>Campaign3</th>\n",
       "      <th>Campaign4</th>\n",
       "      <th>Campaign5</th>\n",
       "      <th>Campaign6</th>\n",
       "      <th>TotalCmpAccpt</th>\n",
       "      <th>Divorced</th>\n",
       "      <th>Married</th>\n",
       "      <th>Single</th>\n",
       "      <th>Together</th>\n",
       "      <th>Widow</th>\n",
       "      <th>Basic</th>\n",
       "      <th>Graduation</th>\n",
       "      <th>Master's</th>\n",
       "      <th>Phd</th>\n",
       "    </tr>\n",
       "  </thead>\n",
       "  <tbody>\n",
       "    <tr>\n",
       "      <th>0</th>\n",
       "      <td>1957</td>\n",
       "      <td>58138.0</td>\n",
       "      <td>0</td>\n",
       "      <td>0</td>\n",
       "      <td>0</td>\n",
       "      <td>58</td>\n",
       "      <td>635</td>\n",
       "      <td>88</td>\n",
       "      <td>546</td>\n",
       "      <td>172</td>\n",
       "      <td>88</td>\n",
       "      <td>88</td>\n",
       "      <td>3</td>\n",
       "      <td>8</td>\n",
       "      <td>10</td>\n",
       "      <td>4</td>\n",
       "      <td>7</td>\n",
       "      <td>0</td>\n",
       "      <td>0</td>\n",
       "      <td>0</td>\n",
       "      <td>0</td>\n",
       "      <td>0</td>\n",
       "      <td>1</td>\n",
       "      <td>1</td>\n",
       "      <td>0</td>\n",
       "      <td>0</td>\n",
       "      <td>1</td>\n",
       "      <td>0</td>\n",
       "      <td>0</td>\n",
       "      <td>0</td>\n",
       "      <td>1</td>\n",
       "      <td>0</td>\n",
       "      <td>0</td>\n",
       "    </tr>\n",
       "    <tr>\n",
       "      <th>1</th>\n",
       "      <td>1954</td>\n",
       "      <td>46344.0</td>\n",
       "      <td>1</td>\n",
       "      <td>1</td>\n",
       "      <td>2</td>\n",
       "      <td>38</td>\n",
       "      <td>11</td>\n",
       "      <td>1</td>\n",
       "      <td>6</td>\n",
       "      <td>2</td>\n",
       "      <td>1</td>\n",
       "      <td>6</td>\n",
       "      <td>2</td>\n",
       "      <td>1</td>\n",
       "      <td>1</td>\n",
       "      <td>2</td>\n",
       "      <td>5</td>\n",
       "      <td>0</td>\n",
       "      <td>0</td>\n",
       "      <td>0</td>\n",
       "      <td>0</td>\n",
       "      <td>0</td>\n",
       "      <td>0</td>\n",
       "      <td>0</td>\n",
       "      <td>0</td>\n",
       "      <td>0</td>\n",
       "      <td>1</td>\n",
       "      <td>0</td>\n",
       "      <td>0</td>\n",
       "      <td>0</td>\n",
       "      <td>1</td>\n",
       "      <td>0</td>\n",
       "      <td>0</td>\n",
       "    </tr>\n",
       "    <tr>\n",
       "      <th>2</th>\n",
       "      <td>1965</td>\n",
       "      <td>71613.0</td>\n",
       "      <td>0</td>\n",
       "      <td>0</td>\n",
       "      <td>0</td>\n",
       "      <td>26</td>\n",
       "      <td>426</td>\n",
       "      <td>49</td>\n",
       "      <td>127</td>\n",
       "      <td>111</td>\n",
       "      <td>21</td>\n",
       "      <td>42</td>\n",
       "      <td>1</td>\n",
       "      <td>8</td>\n",
       "      <td>2</td>\n",
       "      <td>10</td>\n",
       "      <td>4</td>\n",
       "      <td>0</td>\n",
       "      <td>0</td>\n",
       "      <td>0</td>\n",
       "      <td>0</td>\n",
       "      <td>0</td>\n",
       "      <td>0</td>\n",
       "      <td>0</td>\n",
       "      <td>0</td>\n",
       "      <td>0</td>\n",
       "      <td>0</td>\n",
       "      <td>1</td>\n",
       "      <td>0</td>\n",
       "      <td>0</td>\n",
       "      <td>1</td>\n",
       "      <td>0</td>\n",
       "      <td>0</td>\n",
       "    </tr>\n",
       "    <tr>\n",
       "      <th>3</th>\n",
       "      <td>1984</td>\n",
       "      <td>26646.0</td>\n",
       "      <td>1</td>\n",
       "      <td>0</td>\n",
       "      <td>1</td>\n",
       "      <td>26</td>\n",
       "      <td>11</td>\n",
       "      <td>4</td>\n",
       "      <td>20</td>\n",
       "      <td>10</td>\n",
       "      <td>3</td>\n",
       "      <td>5</td>\n",
       "      <td>2</td>\n",
       "      <td>2</td>\n",
       "      <td>0</td>\n",
       "      <td>4</td>\n",
       "      <td>6</td>\n",
       "      <td>0</td>\n",
       "      <td>0</td>\n",
       "      <td>0</td>\n",
       "      <td>0</td>\n",
       "      <td>0</td>\n",
       "      <td>0</td>\n",
       "      <td>0</td>\n",
       "      <td>0</td>\n",
       "      <td>0</td>\n",
       "      <td>0</td>\n",
       "      <td>1</td>\n",
       "      <td>0</td>\n",
       "      <td>0</td>\n",
       "      <td>1</td>\n",
       "      <td>0</td>\n",
       "      <td>0</td>\n",
       "    </tr>\n",
       "    <tr>\n",
       "      <th>4</th>\n",
       "      <td>1981</td>\n",
       "      <td>58293.0</td>\n",
       "      <td>1</td>\n",
       "      <td>0</td>\n",
       "      <td>1</td>\n",
       "      <td>94</td>\n",
       "      <td>173</td>\n",
       "      <td>43</td>\n",
       "      <td>118</td>\n",
       "      <td>46</td>\n",
       "      <td>27</td>\n",
       "      <td>15</td>\n",
       "      <td>5</td>\n",
       "      <td>5</td>\n",
       "      <td>3</td>\n",
       "      <td>6</td>\n",
       "      <td>5</td>\n",
       "      <td>0</td>\n",
       "      <td>0</td>\n",
       "      <td>0</td>\n",
       "      <td>0</td>\n",
       "      <td>0</td>\n",
       "      <td>0</td>\n",
       "      <td>0</td>\n",
       "      <td>0</td>\n",
       "      <td>1</td>\n",
       "      <td>0</td>\n",
       "      <td>0</td>\n",
       "      <td>0</td>\n",
       "      <td>0</td>\n",
       "      <td>0</td>\n",
       "      <td>0</td>\n",
       "      <td>1</td>\n",
       "    </tr>\n",
       "  </tbody>\n",
       "</table>\n",
       "</div>"
      ],
      "text/plain": [
       "   BirthYear   Income  Kids  Teens  TotalChildren  Recency  Wine  Fruits  \\\n",
       "0       1957  58138.0     0      0              0       58   635      88   \n",
       "1       1954  46344.0     1      1              2       38    11       1   \n",
       "2       1965  71613.0     0      0              0       26   426      49   \n",
       "3       1984  26646.0     1      0              1       26    11       4   \n",
       "4       1981  58293.0     1      0              1       94   173      43   \n",
       "\n",
       "   Meat  Fish  Sweets  Gold  DealPurchases  WebPurchases  CatalogPurchases  \\\n",
       "0   546   172      88    88              3             8                10   \n",
       "1     6     2       1     6              2             1                 1   \n",
       "2   127   111      21    42              1             8                 2   \n",
       "3    20    10       3     5              2             2                 0   \n",
       "4   118    46      27    15              5             5                 3   \n",
       "\n",
       "   StorePurchases  MonthWebVisits  Campaign1  Campaign2  Campaign3  Campaign4  \\\n",
       "0               4               7          0          0          0          0   \n",
       "1               2               5          0          0          0          0   \n",
       "2              10               4          0          0          0          0   \n",
       "3               4               6          0          0          0          0   \n",
       "4               6               5          0          0          0          0   \n",
       "\n",
       "   Campaign5  Campaign6  TotalCmpAccpt  Divorced  Married  Single  Together  \\\n",
       "0          0          1              1         0        0       1         0   \n",
       "1          0          0              0         0        0       1         0   \n",
       "2          0          0              0         0        0       0         1   \n",
       "3          0          0              0         0        0       0         1   \n",
       "4          0          0              0         0        1       0         0   \n",
       "\n",
       "   Widow  Basic  Graduation  Master's  Phd  \n",
       "0      0      0           1         0    0  \n",
       "1      0      0           1         0    0  \n",
       "2      0      0           1         0    0  \n",
       "3      0      0           1         0    0  \n",
       "4      0      0           0         0    1  "
      ]
     },
     "execution_count": 28,
     "metadata": {},
     "output_type": "execute_result"
    }
   ],
   "source": [
    "df2.head()"
   ]
  },
  {
   "cell_type": "markdown",
   "id": "10f1b3dc",
   "metadata": {},
   "source": [
    "## Data set description\n",
    "\n",
    "After cleaning, we have a DataFrame df2, which reports the enrolled customers of a certain company (one customer per row ). The columns are:\n",
    "\n",
    "* **BirthYear**: Customer's year of birth\n",
    "* **Income**: Customer's annual household income\n",
    "* **Kids**: Number of kids in each customer's household\n",
    "* **Teens**: Number of teens in each customer's household\n",
    "* **TotalChildren**: Number of kids and teens in each customer's household\n",
    "* **Recency**: Number of days since customer's last purchase\n",
    "* **Wine, Fruits, Meat, Fish, Sweets, and Gold** : The amount the customer spent on each product in the last 2 years\n",
    "* **DealPurchases**: The number of purchases customer made with a discount\n",
    "* **WebPurchases**: The number of purchases customer made through the company's website\n",
    "* **CatalogPurchases**: The number of purchases customer made using a catalog\n",
    "* **StorePurchases**: The number of purchases customer made in the store\n",
    "* **MonthWebVisits**: The number of times a customer visited the company's website in the last month\n",
    "* **Campaign 1-6**: Binary attibute that indicates whether the customer accepted the offer in each campaign\n",
    "* **TotalCmpAccpt**: The maximum number of accepted campaigns per customer\n",
    "* **Divorced, Married, Single, Together, Widow**: Binary attibute that indicates the customer's marital status\n",
    "* **Basic, Graduation, Master's, Phd**: Binary attibute that indicates the customer's highest education level "
   ]
  },
  {
   "cell_type": "markdown",
   "id": "3536a076",
   "metadata": {},
   "source": [
    "# Interesting Finding 1:  Sweets and Children Correlation"
   ]
  },
  {
   "cell_type": "markdown",
   "id": "28ddf3d1",
   "metadata": {},
   "source": [
    "### Is there a correlation between children and the amount of purchases of certain products?"
   ]
  },
  {
   "cell_type": "code",
   "execution_count": 29,
   "id": "ab0196b3",
   "metadata": {},
   "outputs": [],
   "source": [
    "corr = df2.corr()"
   ]
  },
  {
   "cell_type": "code",
   "execution_count": 30,
   "id": "678a319e",
   "metadata": {
    "scrolled": false
   },
   "outputs": [
    {
     "data": {
      "text/plain": [
       "Meat               -0.504545\n",
       "CatalogPurchases   -0.443474\n",
       "Fish               -0.427841\n",
       "Fruits             -0.395901\n",
       "Sweets             -0.389411\n",
       "Name: TotalChildren, dtype: float64"
      ]
     },
     "execution_count": 30,
     "metadata": {},
     "output_type": "execute_result"
    }
   ],
   "source": [
    "corr.loc['TotalChildren'].nsmallest()"
   ]
  },
  {
   "cell_type": "markdown",
   "id": "4a02aba8",
   "metadata": {},
   "source": [
    "#### What is the count of customers with total number of children?"
   ]
  },
  {
   "cell_type": "code",
   "execution_count": 31,
   "id": "30a40bd1",
   "metadata": {},
   "outputs": [
    {
     "data": {
      "text/plain": [
       "TotalChildren\n",
       "0     633\n",
       "1    1117\n",
       "2     416\n",
       "3      50\n",
       "Name: TotalChildren, dtype: int64"
      ]
     },
     "execution_count": 31,
     "metadata": {},
     "output_type": "execute_result"
    }
   ],
   "source": [
    "df2.groupby('TotalChildren')['TotalChildren'].size()"
   ]
  },
  {
   "cell_type": "code",
   "execution_count": 32,
   "id": "e05a079c",
   "metadata": {
    "scrolled": true
   },
   "outputs": [
    {
     "data": {
      "text/plain": [
       "0.7143501805054152"
      ]
     },
     "execution_count": 32,
     "metadata": {},
     "output_type": "execute_result"
    }
   ],
   "source": [
    "#percent of customers that have at least one child\n",
    "(df2.TotalChildren !=0).sum()/len(df2)"
   ]
  },
  {
   "cell_type": "markdown",
   "id": "f0f10ee4",
   "metadata": {},
   "source": [
    "## Summary of Finding:\n",
    "Customers who have more children tend to buy less sweet products. "
   ]
  },
  {
   "cell_type": "markdown",
   "id": "707ef72a",
   "metadata": {},
   "source": [
    "## Graph below shows a decrease in sweets purchases as children number go up"
   ]
  },
  {
   "cell_type": "code",
   "execution_count": 33,
   "id": "a1c8a221",
   "metadata": {
    "scrolled": false
   },
   "outputs": [
    {
     "data": {
      "text/plain": [
       "<seaborn.axisgrid.FacetGrid at 0x7f8dbba5fd00>"
      ]
     },
     "execution_count": 33,
     "metadata": {},
     "output_type": "execute_result"
    },
    {
     "data": {
      "image/png": "[encoded data removed]",
      "text/plain": [
       "<Figure size 720x360 with 1 Axes>"
      ]
     },
     "metadata": {
      "needs_background": "light"
     },
     "output_type": "display_data"
    }
   ],
   "source": [
    "sns.catplot(x = 'TotalChildren',y='Sweets',kind ='bar',data=df2, aspect = 2)"
   ]
  },
  {
   "cell_type": "markdown",
   "id": "04cf09ce",
   "metadata": {},
   "source": [
    "## Managerial Decision\n",
    "71.44% of customers have at least one child. \n",
    "To encourage these customers to buy more of sweets products, a discount on sweets can be given to these customers. \n",
    "At the same time, offering more child-oriented sweets may also increase the sale of sweets to this demographic.\n"
   ]
  },
  {
   "cell_type": "markdown",
   "id": "c4a680b0",
   "metadata": {},
   "source": [
    "# Interesting Finding 2 : Monthly Web Visits, Web Store Purchases, and Income Relation"
   ]
  },
  {
   "cell_type": "markdown",
   "id": "cdfaadd9",
   "metadata": {},
   "source": [
    "### Lets Identify customers through Clustering"
   ]
  },
  {
   "cell_type": "code",
   "execution_count": 34,
   "id": "e1852cb6",
   "metadata": {},
   "outputs": [],
   "source": [
    "from sklearn.cluster import KMeans\n",
    "clu = KMeans(n_clusters=2,random_state=0)\n",
    "#after running the cross validation code, KMeans = 2 had one of the highest siloutte scores\n",
    "#this showed the most interesting cluster"
   ]
  },
  {
   "cell_type": "markdown",
   "id": "2650ecf0",
   "metadata": {},
   "source": [
    "#### Using KMeans "
   ]
  },
  {
   "cell_type": "code",
   "execution_count": 35,
   "id": "aff49539",
   "metadata": {},
   "outputs": [],
   "source": [
    "#through discovery of these columns of being highly correlated, we removed them for clustering\n",
    "df_clust = df2.drop(columns =['Kids', 'Teens', 'Wine', 'Fruits', 'Meat', 'Fish', 'Sweets',\\\n",
    "                         'Gold','DealPurchases','CatalogPurchases', 'StorePurchases',\\\n",
    "                         'Campaign1', 'Campaign2', 'Campaign3','Campaign4', 'Campaign5','Campaign6'], axis =1)"
   ]
  },
  {
   "cell_type": "code",
   "execution_count": 36,
   "id": "a141059e",
   "metadata": {
    "scrolled": true
   },
   "outputs": [
    {
     "data": {
      "text/plain": [
       "KMeans(n_clusters=2, random_state=0)"
      ]
     },
     "execution_count": 36,
     "metadata": {},
     "output_type": "execute_result"
    }
   ],
   "source": [
    "clu.fit(df_clust)\n",
    "df_clust['Clustered'] = clu.labels_"
   ]
  },
  {
   "cell_type": "code",
   "execution_count": 37,
   "id": "cc502a4f",
   "metadata": {
    "scrolled": false
   },
   "outputs": [
    {
     "data": {
      "text/html": [
       "<div>\n",
       "<style scoped>\n",
       "    .dataframe tbody tr th:only-of-type {\n",
       "        vertical-align: middle;\n",
       "    }\n",
       "\n",
       "    .dataframe tbody tr th {\n",
       "        vertical-align: top;\n",
       "    }\n",
       "\n",
       "    .dataframe thead th {\n",
       "        text-align: right;\n",
       "    }\n",
       "</style>\n",
       "<table border=\"1\" class=\"dataframe\">\n",
       "  <thead>\n",
       "    <tr style=\"text-align: right;\">\n",
       "      <th></th>\n",
       "      <th>BirthYear</th>\n",
       "      <th>Income</th>\n",
       "      <th>TotalChildren</th>\n",
       "      <th>Recency</th>\n",
       "      <th>WebPurchases</th>\n",
       "      <th>MonthWebVisits</th>\n",
       "      <th>TotalCmpAccpt</th>\n",
       "      <th>Divorced</th>\n",
       "      <th>Married</th>\n",
       "      <th>Single</th>\n",
       "      <th>Together</th>\n",
       "      <th>Widow</th>\n",
       "      <th>Basic</th>\n",
       "      <th>Graduation</th>\n",
       "      <th>Master's</th>\n",
       "      <th>Phd</th>\n",
       "    </tr>\n",
       "    <tr>\n",
       "      <th>Clustered</th>\n",
       "      <th></th>\n",
       "      <th></th>\n",
       "      <th></th>\n",
       "      <th></th>\n",
       "      <th></th>\n",
       "      <th></th>\n",
       "      <th></th>\n",
       "      <th></th>\n",
       "      <th></th>\n",
       "      <th></th>\n",
       "      <th></th>\n",
       "      <th></th>\n",
       "      <th></th>\n",
       "      <th></th>\n",
       "      <th></th>\n",
       "      <th></th>\n",
       "    </tr>\n",
       "  </thead>\n",
       "  <tbody>\n",
       "    <tr>\n",
       "      <th>0</th>\n",
       "      <td>1966.621368</td>\n",
       "      <td>71072.096532</td>\n",
       "      <td>0.68791</td>\n",
       "      <td>48.912840</td>\n",
       "      <td>5.490159</td>\n",
       "      <td>3.888472</td>\n",
       "      <td>0.685098</td>\n",
       "      <td>0.108716</td>\n",
       "      <td>0.392690</td>\n",
       "      <td>0.196813</td>\n",
       "      <td>0.261481</td>\n",
       "      <td>0.040300</td>\n",
       "      <td>0.000000</td>\n",
       "      <td>0.514527</td>\n",
       "      <td>0.239925</td>\n",
       "      <td>0.245548</td>\n",
       "    </tr>\n",
       "    <tr>\n",
       "      <th>1</th>\n",
       "      <td>1970.862489</td>\n",
       "      <td>34765.867711</td>\n",
       "      <td>1.18799</td>\n",
       "      <td>49.105309</td>\n",
       "      <td>2.780679</td>\n",
       "      <td>6.647520</td>\n",
       "      <td>0.228895</td>\n",
       "      <td>0.100957</td>\n",
       "      <td>0.381201</td>\n",
       "      <td>0.233246</td>\n",
       "      <td>0.255875</td>\n",
       "      <td>0.028721</td>\n",
       "      <td>0.046997</td>\n",
       "      <td>0.493473</td>\n",
       "      <td>0.268930</td>\n",
       "      <td>0.190601</td>\n",
       "    </tr>\n",
       "  </tbody>\n",
       "</table>\n",
       "</div>"
      ],
      "text/plain": [
       "             BirthYear        Income  TotalChildren    Recency  WebPurchases  \\\n",
       "Clustered                                                                      \n",
       "0          1966.621368  71072.096532        0.68791  48.912840      5.490159   \n",
       "1          1970.862489  34765.867711        1.18799  49.105309      2.780679   \n",
       "\n",
       "           MonthWebVisits  TotalCmpAccpt  Divorced   Married    Single  \\\n",
       "Clustered                                                                \n",
       "0                3.888472       0.685098  0.108716  0.392690  0.196813   \n",
       "1                6.647520       0.228895  0.100957  0.381201  0.233246   \n",
       "\n",
       "           Together     Widow     Basic  Graduation  Master's       Phd  \n",
       "Clustered                                                                \n",
       "0          0.261481  0.040300  0.000000    0.514527  0.239925  0.245548  \n",
       "1          0.255875  0.028721  0.046997    0.493473  0.268930  0.190601  "
      ]
     },
     "execution_count": 37,
     "metadata": {},
     "output_type": "execute_result"
    }
   ],
   "source": [
    "df_clust.groupby('Clustered').mean()"
   ]
  },
  {
   "cell_type": "code",
   "execution_count": 38,
   "id": "11c68d2a",
   "metadata": {
    "scrolled": true
   },
   "outputs": [
    {
     "data": {
      "text/html": [
       "<div>\n",
       "<style scoped>\n",
       "    .dataframe tbody tr th:only-of-type {\n",
       "        vertical-align: middle;\n",
       "    }\n",
       "\n",
       "    .dataframe tbody tr th {\n",
       "        vertical-align: top;\n",
       "    }\n",
       "\n",
       "    .dataframe thead th {\n",
       "        text-align: right;\n",
       "    }\n",
       "</style>\n",
       "<table border=\"1\" class=\"dataframe\">\n",
       "  <thead>\n",
       "    <tr style=\"text-align: right;\">\n",
       "      <th></th>\n",
       "      <th>Income</th>\n",
       "      <th>WebPurchases</th>\n",
       "      <th>MonthWebVisits</th>\n",
       "    </tr>\n",
       "    <tr>\n",
       "      <th>Clustered</th>\n",
       "      <th></th>\n",
       "      <th></th>\n",
       "      <th></th>\n",
       "    </tr>\n",
       "  </thead>\n",
       "  <tbody>\n",
       "    <tr>\n",
       "      <th>0</th>\n",
       "      <td>71072.096532</td>\n",
       "      <td>5.490159</td>\n",
       "      <td>3.888472</td>\n",
       "    </tr>\n",
       "    <tr>\n",
       "      <th>1</th>\n",
       "      <td>34765.867711</td>\n",
       "      <td>2.780679</td>\n",
       "      <td>6.647520</td>\n",
       "    </tr>\n",
       "  </tbody>\n",
       "</table>\n",
       "</div>"
      ],
      "text/plain": [
       "                 Income  WebPurchases  MonthWebVisits\n",
       "Clustered                                            \n",
       "0          71072.096532      5.490159        3.888472\n",
       "1          34765.867711      2.780679        6.647520"
      ]
     },
     "execution_count": 38,
     "metadata": {},
     "output_type": "execute_result"
    }
   ],
   "source": [
    "df_clust.groupby('Clustered')[['Income','WebPurchases','MonthWebVisits']].mean()"
   ]
  },
  {
   "cell_type": "markdown",
   "id": "c8bafb07",
   "metadata": {},
   "source": [
    "## Summary of Finding:\n",
    "\n",
    "Lower income customers visit the web more every month, while customers with a higher income make more online purchases."
   ]
  },
  {
   "cell_type": "code",
   "execution_count": 39,
   "id": "b955a80b",
   "metadata": {},
   "outputs": [],
   "source": [
    "#bin values chosen based on clusters, discovery showed interesting results\n",
    "df_clust['binned_income'] = pd.cut(df_clust.Income,bins=[0,34000,71000,df_clust.Income.max()])"
   ]
  },
  {
   "cell_type": "code",
   "execution_count": 40,
   "id": "1f777433",
   "metadata": {},
   "outputs": [
    {
     "data": {
      "text/plain": [
       "<AxesSubplot:xlabel='binned_income'>"
      ]
     },
     "execution_count": 40,
     "metadata": {},
     "output_type": "execute_result"
    },
    {
     "data": {
      "image/png": "[encoded data removed]",
      "text/plain": [
       "<Figure size 432x288 with 1 Axes>"
      ]
     },
     "metadata": {
      "needs_background": "light"
     },
     "output_type": "display_data"
    }
   ],
   "source": [
    "df_clust.groupby('binned_income')[['WebPurchases','MonthWebVisits']].mean().plot()"
   ]
  },
  {
   "cell_type": "code",
   "execution_count": 41,
   "id": "30fbac2b",
   "metadata": {},
   "outputs": [
    {
     "data": {
      "text/html": [
       "<div>\n",
       "<style scoped>\n",
       "    .dataframe tbody tr th:only-of-type {\n",
       "        vertical-align: middle;\n",
       "    }\n",
       "\n",
       "    .dataframe tbody tr th {\n",
       "        vertical-align: top;\n",
       "    }\n",
       "\n",
       "    .dataframe thead th {\n",
       "        text-align: right;\n",
       "    }\n",
       "</style>\n",
       "<table border=\"1\" class=\"dataframe\">\n",
       "  <thead>\n",
       "    <tr style=\"text-align: right;\">\n",
       "      <th></th>\n",
       "      <th>MonthWebVisits</th>\n",
       "      <th>WebPurchases</th>\n",
       "    </tr>\n",
       "    <tr>\n",
       "      <th>binned_income</th>\n",
       "      <th></th>\n",
       "      <th></th>\n",
       "    </tr>\n",
       "  </thead>\n",
       "  <tbody>\n",
       "    <tr>\n",
       "      <th>(0.0, 34000.0]</th>\n",
       "      <td>7.023810</td>\n",
       "      <td>1.980159</td>\n",
       "    </tr>\n",
       "    <tr>\n",
       "      <th>(34000.0, 71000.0]</th>\n",
       "      <td>5.584739</td>\n",
       "      <td>4.497992</td>\n",
       "    </tr>\n",
       "    <tr>\n",
       "      <th>(71000.0, 666666.0]</th>\n",
       "      <td>2.770878</td>\n",
       "      <td>5.256959</td>\n",
       "    </tr>\n",
       "  </tbody>\n",
       "</table>\n",
       "</div>"
      ],
      "text/plain": [
       "                     MonthWebVisits  WebPurchases\n",
       "binned_income                                    \n",
       "(0.0, 34000.0]             7.023810      1.980159\n",
       "(34000.0, 71000.0]         5.584739      4.497992\n",
       "(71000.0, 666666.0]        2.770878      5.256959"
      ]
     },
     "execution_count": 41,
     "metadata": {},
     "output_type": "execute_result"
    }
   ],
   "source": [
    "df_clust.pivot_table(index = 'binned_income',\\\n",
    "                     values=['WebPurchases','MonthWebVisits'])"
   ]
  },
  {
   "cell_type": "code",
   "execution_count": 42,
   "id": "11c2634c",
   "metadata": {},
   "outputs": [
    {
     "data": {
      "text/plain": [
       "<AxesSubplot:xlabel='binned_income'>"
      ]
     },
     "execution_count": 42,
     "metadata": {},
     "output_type": "execute_result"
    },
    {
     "data": {
      "image/png": "[encoded data removed]",
      "text/plain": [
       "<Figure size 432x288 with 1 Axes>"
      ]
     },
     "metadata": {
      "needs_background": "light"
     },
     "output_type": "display_data"
    }
   ],
   "source": [
    "df_clust.pivot_table(index = 'binned_income',\\\n",
    "                     values=['WebPurchases','MonthWebVisits']).plot()"
   ]
  },
  {
   "cell_type": "markdown",
   "id": "22562355",
   "metadata": {},
   "source": [
    "## Monthly Web Visits is more in case of lower income people showing a downward trend"
   ]
  },
  {
   "cell_type": "code",
   "execution_count": 43,
   "id": "996d8071",
   "metadata": {
    "scrolled": true
   },
   "outputs": [
    {
     "data": {
      "text/plain": [
       "<seaborn.axisgrid.FacetGrid at 0x7f8dbbb72d90>"
      ]
     },
     "execution_count": 43,
     "metadata": {},
     "output_type": "execute_result"
    },
    {
     "data": {
      "image/png": "[encoded data removed]",
      "text/plain": [
       "<Figure size 1080x360 with 1 Axes>"
      ]
     },
     "metadata": {
      "needs_background": "light"
     },
     "output_type": "display_data"
    }
   ],
   "source": [
    "sns.catplot(y='MonthWebVisits',x ='binned_income',data=df_clust,kind='bar',aspect=3)"
   ]
  },
  {
   "cell_type": "markdown",
   "id": "74bff8c8",
   "metadata": {},
   "source": [
    "## Graph below shows a gradual increase in web purchases with increasing income"
   ]
  },
  {
   "cell_type": "code",
   "execution_count": 44,
   "id": "01dd90cb",
   "metadata": {
    "scrolled": false
   },
   "outputs": [
    {
     "data": {
      "text/plain": [
       "<seaborn.axisgrid.FacetGrid at 0x7f8dbc9c6340>"
      ]
     },
     "execution_count": 44,
     "metadata": {},
     "output_type": "execute_result"
    },
    {
     "data": {
      "image/png": "[encoded data removed]",
      "text/plain": [
       "<Figure size 1080x360 with 1 Axes>"
      ]
     },
     "metadata": {
      "needs_background": "light"
     },
     "output_type": "display_data"
    }
   ],
   "source": [
    "sns.catplot(y='WebPurchases',x ='binned_income',data=df_clust,kind='bar',aspect=3)"
   ]
  },
  {
   "cell_type": "code",
   "execution_count": null,
   "id": "bb2bd5f6",
   "metadata": {},
   "outputs": [],
   "source": []
  },
  {
   "cell_type": "markdown",
   "id": "c523f7dc",
   "metadata": {},
   "source": [
    "## Managerial Decision\n",
    "In order to increase the purchase rate of lower income customers, they should be targeted with online discounts after they have visited the website 3 times in one month. "
   ]
  },
  {
   "cell_type": "markdown",
   "id": "b5facdae",
   "metadata": {},
   "source": [
    "# Interesting Finding 3 : Classify who has accepted a previous campaign"
   ]
  },
  {
   "cell_type": "markdown",
   "id": "31e92641",
   "metadata": {},
   "source": [
    "### How many customers have accepted at least one offer from a campaign?"
   ]
  },
  {
   "cell_type": "code",
   "execution_count": 45,
   "id": "c26b7e33",
   "metadata": {},
   "outputs": [
    {
     "data": {
      "text/plain": [
       "0.273014440433213"
      ]
     },
     "execution_count": 45,
     "metadata": {},
     "output_type": "execute_result"
    }
   ],
   "source": [
    "#create attribute to track who has accepted a previous campaign\n",
    "df2['AccptPrevCmp'] = (df2.TotalCmpAccpt > 0)*1.0\n",
    "#percent of customers who have accepted a previous campaign\n",
    "(df2.AccptPrevCmp.sum())/len(df2)"
   ]
  },
  {
   "cell_type": "code",
   "execution_count": 46,
   "id": "41d89f28",
   "metadata": {
    "scrolled": true
   },
   "outputs": [
    {
     "data": {
      "text/html": [
       "<div>\n",
       "<style scoped>\n",
       "    .dataframe tbody tr th:only-of-type {\n",
       "        vertical-align: middle;\n",
       "    }\n",
       "\n",
       "    .dataframe tbody tr th {\n",
       "        vertical-align: top;\n",
       "    }\n",
       "\n",
       "    .dataframe thead th {\n",
       "        text-align: right;\n",
       "    }\n",
       "</style>\n",
       "<table border=\"1\" class=\"dataframe\">\n",
       "  <thead>\n",
       "    <tr style=\"text-align: right;\">\n",
       "      <th></th>\n",
       "      <th>BirthYear</th>\n",
       "      <th>Income</th>\n",
       "      <th>Kids</th>\n",
       "      <th>Teens</th>\n",
       "      <th>TotalChildren</th>\n",
       "      <th>Recency</th>\n",
       "      <th>Wine</th>\n",
       "      <th>Fruits</th>\n",
       "      <th>Meat</th>\n",
       "      <th>Fish</th>\n",
       "      <th>Sweets</th>\n",
       "      <th>Gold</th>\n",
       "      <th>DealPurchases</th>\n",
       "      <th>WebPurchases</th>\n",
       "      <th>CatalogPurchases</th>\n",
       "      <th>StorePurchases</th>\n",
       "      <th>MonthWebVisits</th>\n",
       "      <th>Campaign1</th>\n",
       "      <th>Campaign2</th>\n",
       "      <th>Campaign3</th>\n",
       "      <th>Campaign4</th>\n",
       "      <th>Campaign5</th>\n",
       "      <th>Campaign6</th>\n",
       "      <th>TotalCmpAccpt</th>\n",
       "      <th>Divorced</th>\n",
       "      <th>Married</th>\n",
       "      <th>Single</th>\n",
       "      <th>Together</th>\n",
       "      <th>Widow</th>\n",
       "      <th>Basic</th>\n",
       "      <th>Graduation</th>\n",
       "      <th>Master's</th>\n",
       "      <th>Phd</th>\n",
       "      <th>AccptPrevCmp</th>\n",
       "    </tr>\n",
       "  </thead>\n",
       "  <tbody>\n",
       "    <tr>\n",
       "      <th>0</th>\n",
       "      <td>1957</td>\n",
       "      <td>58138.0</td>\n",
       "      <td>0</td>\n",
       "      <td>0</td>\n",
       "      <td>0</td>\n",
       "      <td>58</td>\n",
       "      <td>635</td>\n",
       "      <td>88</td>\n",
       "      <td>546</td>\n",
       "      <td>172</td>\n",
       "      <td>88</td>\n",
       "      <td>88</td>\n",
       "      <td>3</td>\n",
       "      <td>8</td>\n",
       "      <td>10</td>\n",
       "      <td>4</td>\n",
       "      <td>7</td>\n",
       "      <td>0</td>\n",
       "      <td>0</td>\n",
       "      <td>0</td>\n",
       "      <td>0</td>\n",
       "      <td>0</td>\n",
       "      <td>1</td>\n",
       "      <td>1</td>\n",
       "      <td>0</td>\n",
       "      <td>0</td>\n",
       "      <td>1</td>\n",
       "      <td>0</td>\n",
       "      <td>0</td>\n",
       "      <td>0</td>\n",
       "      <td>1</td>\n",
       "      <td>0</td>\n",
       "      <td>0</td>\n",
       "      <td>1.0</td>\n",
       "    </tr>\n",
       "    <tr>\n",
       "      <th>1</th>\n",
       "      <td>1954</td>\n",
       "      <td>46344.0</td>\n",
       "      <td>1</td>\n",
       "      <td>1</td>\n",
       "      <td>2</td>\n",
       "      <td>38</td>\n",
       "      <td>11</td>\n",
       "      <td>1</td>\n",
       "      <td>6</td>\n",
       "      <td>2</td>\n",
       "      <td>1</td>\n",
       "      <td>6</td>\n",
       "      <td>2</td>\n",
       "      <td>1</td>\n",
       "      <td>1</td>\n",
       "      <td>2</td>\n",
       "      <td>5</td>\n",
       "      <td>0</td>\n",
       "      <td>0</td>\n",
       "      <td>0</td>\n",
       "      <td>0</td>\n",
       "      <td>0</td>\n",
       "      <td>0</td>\n",
       "      <td>0</td>\n",
       "      <td>0</td>\n",
       "      <td>0</td>\n",
       "      <td>1</td>\n",
       "      <td>0</td>\n",
       "      <td>0</td>\n",
       "      <td>0</td>\n",
       "      <td>1</td>\n",
       "      <td>0</td>\n",
       "      <td>0</td>\n",
       "      <td>0.0</td>\n",
       "    </tr>\n",
       "    <tr>\n",
       "      <th>2</th>\n",
       "      <td>1965</td>\n",
       "      <td>71613.0</td>\n",
       "      <td>0</td>\n",
       "      <td>0</td>\n",
       "      <td>0</td>\n",
       "      <td>26</td>\n",
       "      <td>426</td>\n",
       "      <td>49</td>\n",
       "      <td>127</td>\n",
       "      <td>111</td>\n",
       "      <td>21</td>\n",
       "      <td>42</td>\n",
       "      <td>1</td>\n",
       "      <td>8</td>\n",
       "      <td>2</td>\n",
       "      <td>10</td>\n",
       "      <td>4</td>\n",
       "      <td>0</td>\n",
       "      <td>0</td>\n",
       "      <td>0</td>\n",
       "      <td>0</td>\n",
       "      <td>0</td>\n",
       "      <td>0</td>\n",
       "      <td>0</td>\n",
       "      <td>0</td>\n",
       "      <td>0</td>\n",
       "      <td>0</td>\n",
       "      <td>1</td>\n",
       "      <td>0</td>\n",
       "      <td>0</td>\n",
       "      <td>1</td>\n",
       "      <td>0</td>\n",
       "      <td>0</td>\n",
       "      <td>0.0</td>\n",
       "    </tr>\n",
       "    <tr>\n",
       "      <th>3</th>\n",
       "      <td>1984</td>\n",
       "      <td>26646.0</td>\n",
       "      <td>1</td>\n",
       "      <td>0</td>\n",
       "      <td>1</td>\n",
       "      <td>26</td>\n",
       "      <td>11</td>\n",
       "      <td>4</td>\n",
       "      <td>20</td>\n",
       "      <td>10</td>\n",
       "      <td>3</td>\n",
       "      <td>5</td>\n",
       "      <td>2</td>\n",
       "      <td>2</td>\n",
       "      <td>0</td>\n",
       "      <td>4</td>\n",
       "      <td>6</td>\n",
       "      <td>0</td>\n",
       "      <td>0</td>\n",
       "      <td>0</td>\n",
       "      <td>0</td>\n",
       "      <td>0</td>\n",
       "      <td>0</td>\n",
       "      <td>0</td>\n",
       "      <td>0</td>\n",
       "      <td>0</td>\n",
       "      <td>0</td>\n",
       "      <td>1</td>\n",
       "      <td>0</td>\n",
       "      <td>0</td>\n",
       "      <td>1</td>\n",
       "      <td>0</td>\n",
       "      <td>0</td>\n",
       "      <td>0.0</td>\n",
       "    </tr>\n",
       "    <tr>\n",
       "      <th>4</th>\n",
       "      <td>1981</td>\n",
       "      <td>58293.0</td>\n",
       "      <td>1</td>\n",
       "      <td>0</td>\n",
       "      <td>1</td>\n",
       "      <td>94</td>\n",
       "      <td>173</td>\n",
       "      <td>43</td>\n",
       "      <td>118</td>\n",
       "      <td>46</td>\n",
       "      <td>27</td>\n",
       "      <td>15</td>\n",
       "      <td>5</td>\n",
       "      <td>5</td>\n",
       "      <td>3</td>\n",
       "      <td>6</td>\n",
       "      <td>5</td>\n",
       "      <td>0</td>\n",
       "      <td>0</td>\n",
       "      <td>0</td>\n",
       "      <td>0</td>\n",
       "      <td>0</td>\n",
       "      <td>0</td>\n",
       "      <td>0</td>\n",
       "      <td>0</td>\n",
       "      <td>1</td>\n",
       "      <td>0</td>\n",
       "      <td>0</td>\n",
       "      <td>0</td>\n",
       "      <td>0</td>\n",
       "      <td>0</td>\n",
       "      <td>0</td>\n",
       "      <td>1</td>\n",
       "      <td>0.0</td>\n",
       "    </tr>\n",
       "  </tbody>\n",
       "</table>\n",
       "</div>"
      ],
      "text/plain": [
       "   BirthYear   Income  Kids  Teens  TotalChildren  Recency  Wine  Fruits  \\\n",
       "0       1957  58138.0     0      0              0       58   635      88   \n",
       "1       1954  46344.0     1      1              2       38    11       1   \n",
       "2       1965  71613.0     0      0              0       26   426      49   \n",
       "3       1984  26646.0     1      0              1       26    11       4   \n",
       "4       1981  58293.0     1      0              1       94   173      43   \n",
       "\n",
       "   Meat  Fish  Sweets  Gold  DealPurchases  WebPurchases  CatalogPurchases  \\\n",
       "0   546   172      88    88              3             8                10   \n",
       "1     6     2       1     6              2             1                 1   \n",
       "2   127   111      21    42              1             8                 2   \n",
       "3    20    10       3     5              2             2                 0   \n",
       "4   118    46      27    15              5             5                 3   \n",
       "\n",
       "   StorePurchases  MonthWebVisits  Campaign1  Campaign2  Campaign3  Campaign4  \\\n",
       "0               4               7          0          0          0          0   \n",
       "1               2               5          0          0          0          0   \n",
       "2              10               4          0          0          0          0   \n",
       "3               4               6          0          0          0          0   \n",
       "4               6               5          0          0          0          0   \n",
       "\n",
       "   Campaign5  Campaign6  TotalCmpAccpt  Divorced  Married  Single  Together  \\\n",
       "0          0          1              1         0        0       1         0   \n",
       "1          0          0              0         0        0       1         0   \n",
       "2          0          0              0         0        0       0         1   \n",
       "3          0          0              0         0        0       0         1   \n",
       "4          0          0              0         0        1       0         0   \n",
       "\n",
       "   Widow  Basic  Graduation  Master's  Phd  AccptPrevCmp  \n",
       "0      0      0           1         0    0           1.0  \n",
       "1      0      0           1         0    0           0.0  \n",
       "2      0      0           1         0    0           0.0  \n",
       "3      0      0           1         0    0           0.0  \n",
       "4      0      0           0         0    1           0.0  "
      ]
     },
     "execution_count": 46,
     "metadata": {},
     "output_type": "execute_result"
    }
   ],
   "source": [
    "#show new variable column\n",
    "df2.head()"
   ]
  },
  {
   "cell_type": "markdown",
   "id": "2af6a557",
   "metadata": {},
   "source": [
    "## Can we classify the customers who will accept at least one campaign offer?"
   ]
  },
  {
   "cell_type": "markdown",
   "id": "8e40e02f",
   "metadata": {},
   "source": [
    "### Use a decision tree to classify"
   ]
  },
  {
   "cell_type": "code",
   "execution_count": 47,
   "id": "62a12b43",
   "metadata": {},
   "outputs": [
    {
     "data": {
      "text/plain": [
       "DecisionTreeClassifier(max_depth=2)"
      ]
     },
     "execution_count": 47,
     "metadata": {},
     "output_type": "execute_result"
    }
   ],
   "source": [
    "#create X by dropping columns associated with the attribute AccptPrevCmp\n",
    "X = df2.drop(columns=['Campaign1','Campaign2','Campaign3','Campaign4',\\\n",
    "                      'Campaign5','Campaign6','AccptPrevCmp', 'TotalCmpAccpt'])\n",
    "#create the Y column we're trying to predict and explain\n",
    "Y = df2.AccptPrevCmp\n",
    "#create and fit decision tree\n",
    "dt = tree.DecisionTreeClassifier(max_depth=2) \n",
    "dt.fit(X,Y)"
   ]
  },
  {
   "cell_type": "markdown",
   "id": "ea0db0c9",
   "metadata": {},
   "source": [
    "## Summary of Finding:\n",
    "Customers who have accepted at least one campaign tend to make more than \\\\$82,250 and spend more than \\\\$666.5 in wine."
   ]
  },
  {
   "cell_type": "code",
   "execution_count": 49,
   "id": "c6d25329",
   "metadata": {},
   "outputs": [],
   "source": [
    "#wine was partially binned based on the decision tree.\n",
    "#the other binned levels were based on discovery.\n",
    "df2['binned_Wine'] = pd.cut(df2.Wine,bins=[0,500,650,800,1500], include_lowest=True)\n",
    "\n",
    "# Income was binned based on the decision tree.\n",
    "df2['binned_Income'] = pd.cut(df2.Income,bins=[0,82250,666666],include_lowest=True)"
   ]
  },
  {
   "cell_type": "markdown",
   "id": "125912fb",
   "metadata": {},
   "source": [
    "## Graph shows a gradual increase in accepting previous campaigns as income and amount of wine bought increases"
   ]
  },
  {
   "cell_type": "code",
   "execution_count": 50,
   "id": "63213f76",
   "metadata": {
    "scrolled": true
   },
   "outputs": [
    {
     "data": {
      "text/plain": [
       "<seaborn.axisgrid.FacetGrid at 0x7f8dbd6d89d0>"
      ]
     },
     "execution_count": 50,
     "metadata": {},
     "output_type": "execute_result"
    },
    {
     "data": {
      "image/png": "[encoded data removed]",
      "text/plain": [
       "<Figure size 859.375x360 with 1 Axes>"
      ]
     },
     "metadata": {
      "needs_background": "light"
     },
     "output_type": "display_data"
    }
   ],
   "source": [
    "sns.catplot(data=df2, x='binned_Wine',y='AccptPrevCmp',hue='binned_Income',kind='point',aspect=2)"
   ]
  },
  {
   "cell_type": "code",
   "execution_count": 51,
   "id": "a4431ab3",
   "metadata": {},
   "outputs": [],
   "source": [
    "df2.drop(columns=['AccptPrevCmp','binned_Wine','binned_Income'], axis =1 ,inplace = True)"
   ]
  },
  {
   "cell_type": "markdown",
   "id": "7e591e2b",
   "metadata": {},
   "source": [
    "## Managerial Decision\n",
    "In order to reduce campaign marketing costs and increase campaign participation rate, the next campaign should be targeted at those who have income over \\\\$82,250 and have purchased at least \\\\$500 in wine."
   ]
  }
 ],
 "metadata": {
  "kernelspec": {
   "display_name": "Python 3",
   "language": "python",
   "name": "python3"
  },
  "language_info": {
   "codemirror_mode": {
    "name": "ipython",
    "version": 3
   },
   "file_extension": ".py",
   "mimetype": "text/x-python",
   "name": "python",
   "nbconvert_exporter": "python",
   "pygments_lexer": "ipython3",
   "version": "3.8.8"
  }
 },
 "nbformat": 4,
 "nbformat_minor": 5
}
